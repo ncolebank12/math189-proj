{
 "cells": [
  {
   "cell_type": "markdown",
   "metadata": {},
   "source": [
    "\n",
    "# <center> An Analysis of Climate Change Sentiment and Extreme Weather Events in the U.S. at a State Level "
   ]
  },
  {
   "cell_type": "markdown",
   "metadata": {},
   "source": [
    "- Nicolas Colebank\n",
    "- Andrew Consiglio\n",
    "- Cristina De La Torre"
   ]
  },
  {
   "cell_type": "code",
   "execution_count": 1,
   "metadata": {
    "scrolled": true
   },
   "outputs": [
    {
     "name": "stderr",
     "output_type": "stream",
     "text": [
      "/var/folders/60/9fnqdgyj5k1b_m74fnk4q6rw0000gn/T/ipykernel_29626/3948051342.py:1: DeprecationWarning: \n",
      "Pyarrow will become a required dependency of pandas in the next major release of pandas (pandas 3.0),\n",
      "(to allow more performant data types, such as the Arrow string type, and better interoperability with other libraries)\n",
      "but was not found to be installed on your system.\n",
      "If this would cause problems for you,\n",
      "please provide us feedback at https://github.com/pandas-dev/pandas/issues/54466\n",
      "        \n",
      "  import pandas as pd\n"
     ]
    }
   ],
   "source": [
    "import pandas as pd\n",
    "import numpy as np\n",
    "\n",
    "import matplotlib\n",
    "import matplotlib.pyplot as plt\n",
    "import seaborn as sns\n",
    "\n",
    "import statsmodels.api as sm\n",
    "import statsmodels.formula.api as smf\n",
    "from statsmodels.stats.outliers_influence import variance_inflation_factor\n",
    "import scipy.stats as stats\n"
   ]
  },
  {
   "cell_type": "markdown",
   "metadata": {},
   "source": [
    "# Abstract"
   ]
  },
  {
   "cell_type": "markdown",
   "metadata": {},
   "source": [
    "> Please write one to four paragraphs that describe a very brief overview of why you did this, how you did, and the major findings and conclusions."
   ]
  },
  {
   "cell_type": "markdown",
   "metadata": {},
   "source": [
    "Climate change remains an important environmental issue in recent times, however sentiment on climate change, the extent of concern or belief in its occurence, may not reflect this. To gauge this, we set out to investigate patterns between the occurence of climate change effects and opinions across the U.S. from the years 2018 to 2023. As a measure of climate change, we use the frequency of extreme weather events recorded across states as a proxy. From previous work we know that more recently the frequency of extreme weather events has been increasing, with thunderstorms being the most common weather event. We use data from the National Oceanic and Atmospheric Administration (NOAA) to define the types of weather events and their occurence along with information on casualties. To measure climate opinon across the country we use a dataset from Yale containing questions on beliefs, risk perceptions, policy support, who should act, and behaviors from which we use the percentange of respondants in agreement recorded over states. By using the results of this conducted study by Yale, climate opinions may provide insight to the extent of effect of climate change on adult experiences.\n",
    "\n",
    "To evaluate our hypothesized belief that there exist a relationship between responses and frequency of experienced weather events, we carry out exploratory data analysis of the datasets. In our conducted analysis, we learned that, in accordance to background research, thunderstorm winds is the most common type of extreme weather event across states. Our analysis of events at the state level reveals that the the states with largest increase of events include Alaska, Nevada, and Texas. In analyzing individual trends in climate opinion we learn that the question on climate change affecting the weather has a high percentage of agreement, yet it also has a distribution of responses with variance larger than most of the other questions. THis might imply large variance across different regions of the United States. To further evaluate an existence of a relation between our two variables of interest we fit a linear regression model predicting percentage of support for each climate opinion question of interest. The results from these models show that in general, there is no significant correlation between number of events in a state and climate opinion. However, after further testing with ANOVA it is seen that additional variables of state and year do contribute to the prediction of climate opinion using frequency of extreme weather events. Hence, through multiple methods of analysis and statistical inference, we reach the conclusion that there is not enough evidence to prove that there does exist a relationship between climate opinion and extreme weather events, but geographical location like states may play a role in the frequency of weather events and climate opinion respectively. \n",
    "<br><br><br>\n",
    "**Keywords**: Climate change opinions, extreme weather events, regional differences, proportional change"
   ]
  },
  {
   "cell_type": "markdown",
   "metadata": {},
   "source": [
    "# Research Question"
   ]
  },
  {
   "cell_type": "markdown",
   "metadata": {},
   "source": [
    "Is there a relationship between extreme weather events and climate opinions from 2018-2023 across states in the United States? Does this relationship vary in regards to state?\n",
    "<br><br>\n",
    "\n",
    "We define climate opinion to be based upon the responses of adults to the following questions: \n",
    "- Is global warming is affecting the weather? \n",
    "- Are you worried about global warming?\n",
    "- Do you support regulating CO2 as a pollutant?\n",
    "- Should my governor do more to address global warming? \n",
    "- Do you discuss global warming at least occasionally? "
   ]
  },
  {
   "cell_type": "markdown",
   "metadata": {},
   "source": [
    "# Background (WIP)"
   ]
  },
  {
   "cell_type": "markdown",
   "metadata": {},
   "source": [
    "> Why is this problem relevant? Or, what inspired you to investigate this problem?"
   ]
  },
  {
   "cell_type": "markdown",
   "metadata": {},
   "source": [
    "Global warming and the effects of environmental issues at large remain relevant especially with recent patterns of natural disasters and climate change in the United States. Yet, developing effective ways with which to address the impacts of these issues remain challenging at a national scale. We want to assess this challenge by investigating possible factors that may explain the difficulty in addressing environmental issues across the country. More specifically we will be investigating these factors in relation to local extreme weather events.\n",
    "\n",
    " The complexity of this problem may be shaped by polarized public perception and local experiences, and so the factors we will assess will focus on local sentiment and socioeconomic elements. Analyzing sentiment such as beliefs, risk perceptions, policy support, and behaviors at a local level might lead to a richer understanding of diverse opinions. To develop larger contextual comprehension, analyzing trends of local natural disasters and environmental issues like fracking and pollution may be useful along with an investigation of local governments, their policies, and access to resources.\n",
    " \n",
    "It is through an analysis of extreme weather and these factors that we would like to work towards developing effective ways to address the impact of climate change at the federal level. Hence, exploring the relationship between severe weather, public opinion, and socioeconomic disparities is particularly important because it can provide a contextual framework with which to tackle the challenge of developing effective solutions to mitigate the effects of environmental issues. \n",
    "\n",
    "Before doing further exploration, it is important to understand the subject matter: extreme weather events and climate opinion. Extreme weather events can take on many forms, but usually falls into seven categories: thunderstorms, tornadoes, floods, lightning, hail, wind, and winter weather. All have potentially catastrophic consequences depending on the severity of the event. Some events, like thunderstorms, are much more common but typically less damaging. Events like tornadoes, on the other hand, are more rare yet much more dangerous. All of these events occur in the United States, and seem to be increasing in frequency in recent years. To learn more about severe weather, visit the National Severe Storms Laboratory page [Severe Weather 101](https://www.nssl.noaa.gov/education/svrwx101/#:~:text=severe%20winter%20weather.-,Thunderstorms,floods%2C%20lightning%20and%20damaging%20winds.).\n",
    "\n",
    "Climate opinion has become an increasingly hot topic of discussion in recent years. The effects of global warming are becoming more apparent, and with this it becomes more influential on the day-to-day life of Americans. Investigating the current climate opinion across the United States can be telling of how much climate change has had an effect on their lives currently. Although research shows the worst effects are yet to come, problems like an increasing amount of extreme weather events are pressing issues. Climate opinion can provide insight into how extreme weather events have changed stance on climate change across the USA.\n"
   ]
  },
  {
   "cell_type": "markdown",
   "metadata": {},
   "source": [
    "# Hypothesis"
   ]
  },
  {
   "cell_type": "markdown",
   "metadata": {},
   "source": [
    "We hypothesize that there exists a relationship between climate opinion and extreme weather events such that as the frequency of extreme weather events increases in a location, the climate opinion in that area shifts more towards believing in climate change and its effects.\n",
    "\n",
    "The rationale behind this hypothesis is based on the idea that experiencing the effects of climate change firsthand may cause more belief in its existence and its effects. Although it does not fully coincide with our hypothesis, a similar [study](https://www.sciencedirect.com/science/article/abs/pii/S2352154621001200#:~:text=Experience%20with%20extreme%20weather%20does,prompt%20broader%20shifts%20in%20opinions) found that extreme weather events may reinforce preexisting beliefs in climate change, but does not consistently change climate opinions. Our study aims to further test this idea and see if there is a possible positive correlation between extreme weather event frequency and belief in climate change."
   ]
  },
  {
   "cell_type": "markdown",
   "metadata": {},
   "source": [
    "# Data"
   ]
  },
  {
   "cell_type": "markdown",
   "metadata": {},
   "source": [
    "There are a few datasets that would prove useful for making a statistical analysis to help answer this problem. For one, Yale has a dataset containing climate opinion data in the U.S. down to the county, where respondents were asked questions such as “Is climate change happening?” or questions about who should act and what policies should be implemented to affect global warming. Additionally, the National Oceanic and Atmospheric Administration (NOAA) has data on extreme weather events throughout the U.S., dating back to 1950. Harvard’s county-level dataset on U.S. Senate voting can be used to see how partisan voting influences climate change as well. All of these datasets can be downloaded as CSV files. We will use python’s pandas library to merge these datasets together, using state as the indentifier.\n",
    "\n",
    "The Yale Climate dataset comes from a national survey from 2008 to 2023 with more than 28,000 respondents. It was collected as part of the Climate Change in the American Mind project. The dataset has state and county data, with each row being a unique combination of state/county and 'varname' which corresponds to different climate change questions.\n",
    "\n",
    "The NOAA's storm events dataset has records from 1950 to present day. They include events that either have enough intensity to cause loss of life, rare and unusual weather phenomena, and other meteorological events of significants.\n"
   ]
  },
  {
   "cell_type": "markdown",
   "metadata": {},
   "source": [
    "## Data Cleaning and Transformation"
   ]
  },
  {
   "cell_type": "code",
   "execution_count": 2,
   "metadata": {
    "scrolled": true
   },
   "outputs": [],
   "source": [
    "#for filtering out non states from event data\n",
    "state_names = [\n",
    "    \"ALABAMA\", \"ALASKA\", \"ARIZONA\", \"ARKANSAS\", \"CALIFORNIA\", \"COLORADO\", \"CONNECTICUT\",\n",
    "    \"DELAWARE\", \"FLORIDA\", \"GEORGIA\", \"HAWAII\", \"IDAHO\", \"ILLINOIS\", \"INDIANA\", \"IOWA\",\n",
    "    \"KANSAS\", \"KENTUCKY\", \"LOUISIANA\", \"MAINE\", \"MARYLAND\", \"MASSACHUSETTS\", \"MICHIGAN\",\n",
    "    \"MINNESOTA\", \"MISSISSIPPI\", \"MISSOURI\", \"MONTANA\", \"NEBRASKA\", \"NEVADA\", \"NEW HAMPSHIRE\",\n",
    "    \"NEW JERSEY\", \"NEW MEXICO\", \"NEW YORK\", \"NORTH CAROLINA\", \"NORTH DAKOTA\", \"OHIO\", \"OKLAHOMA\",\n",
    "    \"OREGON\", \"PENNSYLVANIA\", \"RHODE ISLAND\", \"SOUTH CAROLINA\", \"SOUTH DAKOTA\", \"TENNESSEE\",\n",
    "    \"TEXAS\", \"UTAH\", \"VERMONT\", \"VIRGINIA\", \"WASHINGTON\", \"WEST VIRGINIA\", \"WISCONSIN\", \"WYOMING\"\n",
    "]"
   ]
  },
  {
   "cell_type": "markdown",
   "metadata": {},
   "source": [
    "### Climate Opinion Data"
   ]
  },
  {
   "cell_type": "markdown",
   "metadata": {},
   "source": [
    "To start cleaning, we load the yale climate data into a pandas DataFrame:"
   ]
  },
  {
   "cell_type": "code",
   "execution_count": 3,
   "metadata": {},
   "outputs": [
    {
     "data": {
      "text/html": [
       "<div>\n",
       "<style scoped>\n",
       "    .dataframe tbody tr th:only-of-type {\n",
       "        vertical-align: middle;\n",
       "    }\n",
       "\n",
       "    .dataframe tbody tr th {\n",
       "        vertical-align: top;\n",
       "    }\n",
       "\n",
       "    .dataframe thead th {\n",
       "        text-align: right;\n",
       "    }\n",
       "</style>\n",
       "<table border=\"1\" class=\"dataframe\">\n",
       "  <thead>\n",
       "    <tr style=\"text-align: right;\">\n",
       "      <th></th>\n",
       "      <th>geotype</th>\n",
       "      <th>geoid</th>\n",
       "      <th>geoname</th>\n",
       "      <th>varname</th>\n",
       "      <th>x2010</th>\n",
       "      <th>x2011</th>\n",
       "      <th>x2012</th>\n",
       "      <th>x2013</th>\n",
       "      <th>x2014</th>\n",
       "      <th>x2015</th>\n",
       "      <th>x2016</th>\n",
       "      <th>x2017</th>\n",
       "      <th>x2018</th>\n",
       "      <th>x2019</th>\n",
       "      <th>x2020</th>\n",
       "      <th>x2021</th>\n",
       "      <th>x2022</th>\n",
       "      <th>x2023</th>\n",
       "    </tr>\n",
       "  </thead>\n",
       "  <tbody>\n",
       "    <tr>\n",
       "      <th>0</th>\n",
       "      <td>state</td>\n",
       "      <td>1</td>\n",
       "      <td>Alabama</td>\n",
       "      <td>affectweather</td>\n",
       "      <td>NaN</td>\n",
       "      <td>NaN</td>\n",
       "      <td>NaN</td>\n",
       "      <td>NaN</td>\n",
       "      <td>NaN</td>\n",
       "      <td>NaN</td>\n",
       "      <td>NaN</td>\n",
       "      <td>NaN</td>\n",
       "      <td>52.66</td>\n",
       "      <td>49.22</td>\n",
       "      <td>53.33</td>\n",
       "      <td>53.64</td>\n",
       "      <td>49.63</td>\n",
       "      <td>50.28</td>\n",
       "    </tr>\n",
       "    <tr>\n",
       "      <th>1</th>\n",
       "      <td>state</td>\n",
       "      <td>2</td>\n",
       "      <td>Alaska</td>\n",
       "      <td>affectweather</td>\n",
       "      <td>NaN</td>\n",
       "      <td>NaN</td>\n",
       "      <td>NaN</td>\n",
       "      <td>NaN</td>\n",
       "      <td>NaN</td>\n",
       "      <td>NaN</td>\n",
       "      <td>NaN</td>\n",
       "      <td>NaN</td>\n",
       "      <td>57.48</td>\n",
       "      <td>54.94</td>\n",
       "      <td>60.92</td>\n",
       "      <td>62.25</td>\n",
       "      <td>59.17</td>\n",
       "      <td>60.66</td>\n",
       "    </tr>\n",
       "    <tr>\n",
       "      <th>2</th>\n",
       "      <td>state</td>\n",
       "      <td>4</td>\n",
       "      <td>Arizona</td>\n",
       "      <td>affectweather</td>\n",
       "      <td>NaN</td>\n",
       "      <td>NaN</td>\n",
       "      <td>NaN</td>\n",
       "      <td>NaN</td>\n",
       "      <td>NaN</td>\n",
       "      <td>NaN</td>\n",
       "      <td>NaN</td>\n",
       "      <td>NaN</td>\n",
       "      <td>60.32</td>\n",
       "      <td>58.40</td>\n",
       "      <td>63.55</td>\n",
       "      <td>64.22</td>\n",
       "      <td>61.73</td>\n",
       "      <td>63.12</td>\n",
       "    </tr>\n",
       "    <tr>\n",
       "      <th>3</th>\n",
       "      <td>state</td>\n",
       "      <td>5</td>\n",
       "      <td>Arkansas</td>\n",
       "      <td>affectweather</td>\n",
       "      <td>NaN</td>\n",
       "      <td>NaN</td>\n",
       "      <td>NaN</td>\n",
       "      <td>NaN</td>\n",
       "      <td>NaN</td>\n",
       "      <td>NaN</td>\n",
       "      <td>NaN</td>\n",
       "      <td>NaN</td>\n",
       "      <td>53.17</td>\n",
       "      <td>50.78</td>\n",
       "      <td>55.72</td>\n",
       "      <td>55.89</td>\n",
       "      <td>51.26</td>\n",
       "      <td>52.43</td>\n",
       "    </tr>\n",
       "    <tr>\n",
       "      <th>4</th>\n",
       "      <td>state</td>\n",
       "      <td>6</td>\n",
       "      <td>California</td>\n",
       "      <td>affectweather</td>\n",
       "      <td>NaN</td>\n",
       "      <td>NaN</td>\n",
       "      <td>NaN</td>\n",
       "      <td>NaN</td>\n",
       "      <td>NaN</td>\n",
       "      <td>NaN</td>\n",
       "      <td>NaN</td>\n",
       "      <td>NaN</td>\n",
       "      <td>67.21</td>\n",
       "      <td>64.51</td>\n",
       "      <td>69.28</td>\n",
       "      <td>70.14</td>\n",
       "      <td>67.47</td>\n",
       "      <td>68.39</td>\n",
       "    </tr>\n",
       "  </tbody>\n",
       "</table>\n",
       "</div>"
      ],
      "text/plain": [
       "  geotype  geoid     geoname        varname  x2010  x2011  x2012  x2013  \\\n",
       "0   state      1     Alabama  affectweather    NaN    NaN    NaN    NaN   \n",
       "1   state      2      Alaska  affectweather    NaN    NaN    NaN    NaN   \n",
       "2   state      4     Arizona  affectweather    NaN    NaN    NaN    NaN   \n",
       "3   state      5    Arkansas  affectweather    NaN    NaN    NaN    NaN   \n",
       "4   state      6  California  affectweather    NaN    NaN    NaN    NaN   \n",
       "\n",
       "   x2014  x2015  x2016  x2017  x2018  x2019  x2020  x2021  x2022  x2023  \n",
       "0    NaN    NaN    NaN    NaN  52.66  49.22  53.33  53.64  49.63  50.28  \n",
       "1    NaN    NaN    NaN    NaN  57.48  54.94  60.92  62.25  59.17  60.66  \n",
       "2    NaN    NaN    NaN    NaN  60.32  58.40  63.55  64.22  61.73  63.12  \n",
       "3    NaN    NaN    NaN    NaN  53.17  50.78  55.72  55.89  51.26  52.43  \n",
       "4    NaN    NaN    NaN    NaN  67.21  64.51  69.28  70.14  67.47  68.39  "
      ]
     },
     "execution_count": 3,
     "metadata": {},
     "output_type": "execute_result"
    }
   ],
   "source": [
    "yale_climate = pd.read_csv('data/yale_climate.csv')\n",
    "yale_climate.head()"
   ]
  },
  {
   "cell_type": "markdown",
   "metadata": {},
   "source": [
    "Since we are only looking at state data, we filter the DataFrame so that only the state rows are included."
   ]
  },
  {
   "cell_type": "code",
   "execution_count": 4,
   "metadata": {
    "scrolled": true
   },
   "outputs": [
    {
     "data": {
      "text/html": [
       "<div>\n",
       "<style scoped>\n",
       "    .dataframe tbody tr th:only-of-type {\n",
       "        vertical-align: middle;\n",
       "    }\n",
       "\n",
       "    .dataframe tbody tr th {\n",
       "        vertical-align: top;\n",
       "    }\n",
       "\n",
       "    .dataframe thead th {\n",
       "        text-align: right;\n",
       "    }\n",
       "</style>\n",
       "<table border=\"1\" class=\"dataframe\">\n",
       "  <thead>\n",
       "    <tr style=\"text-align: right;\">\n",
       "      <th></th>\n",
       "      <th>geoname</th>\n",
       "      <th>varname</th>\n",
       "      <th>x2018</th>\n",
       "      <th>x2019</th>\n",
       "      <th>x2020</th>\n",
       "      <th>x2021</th>\n",
       "      <th>x2022</th>\n",
       "      <th>x2023</th>\n",
       "    </tr>\n",
       "  </thead>\n",
       "  <tbody>\n",
       "    <tr>\n",
       "      <th>0</th>\n",
       "      <td>ALABAMA</td>\n",
       "      <td>affectweather</td>\n",
       "      <td>52.66</td>\n",
       "      <td>49.22</td>\n",
       "      <td>53.33</td>\n",
       "      <td>53.64</td>\n",
       "      <td>49.63</td>\n",
       "      <td>50.28</td>\n",
       "    </tr>\n",
       "    <tr>\n",
       "      <th>1</th>\n",
       "      <td>ALASKA</td>\n",
       "      <td>affectweather</td>\n",
       "      <td>57.48</td>\n",
       "      <td>54.94</td>\n",
       "      <td>60.92</td>\n",
       "      <td>62.25</td>\n",
       "      <td>59.17</td>\n",
       "      <td>60.66</td>\n",
       "    </tr>\n",
       "    <tr>\n",
       "      <th>2</th>\n",
       "      <td>ARIZONA</td>\n",
       "      <td>affectweather</td>\n",
       "      <td>60.32</td>\n",
       "      <td>58.40</td>\n",
       "      <td>63.55</td>\n",
       "      <td>64.22</td>\n",
       "      <td>61.73</td>\n",
       "      <td>63.12</td>\n",
       "    </tr>\n",
       "    <tr>\n",
       "      <th>3</th>\n",
       "      <td>ARKANSAS</td>\n",
       "      <td>affectweather</td>\n",
       "      <td>53.17</td>\n",
       "      <td>50.78</td>\n",
       "      <td>55.72</td>\n",
       "      <td>55.89</td>\n",
       "      <td>51.26</td>\n",
       "      <td>52.43</td>\n",
       "    </tr>\n",
       "    <tr>\n",
       "      <th>4</th>\n",
       "      <td>CALIFORNIA</td>\n",
       "      <td>affectweather</td>\n",
       "      <td>67.21</td>\n",
       "      <td>64.51</td>\n",
       "      <td>69.28</td>\n",
       "      <td>70.14</td>\n",
       "      <td>67.47</td>\n",
       "      <td>68.39</td>\n",
       "    </tr>\n",
       "  </tbody>\n",
       "</table>\n",
       "</div>"
      ],
      "text/plain": [
       "      geoname        varname  x2018  x2019  x2020  x2021  x2022  x2023\n",
       "0     ALABAMA  affectweather  52.66  49.22  53.33  53.64  49.63  50.28\n",
       "1      ALASKA  affectweather  57.48  54.94  60.92  62.25  59.17  60.66\n",
       "2     ARIZONA  affectweather  60.32  58.40  63.55  64.22  61.73  63.12\n",
       "3    ARKANSAS  affectweather  53.17  50.78  55.72  55.89  51.26  52.43\n",
       "4  CALIFORNIA  affectweather  67.21  64.51  69.28  70.14  67.47  68.39"
      ]
     },
     "execution_count": 4,
     "metadata": {},
     "output_type": "execute_result"
    }
   ],
   "source": [
    "yale_climate = yale_climate[yale_climate['geotype'] == 'state']\n",
    "yale_climate = yale_climate[['geoname','varname', 'x2018', 'x2019', 'x2020', 'x2021', 'x2022', 'x2023']]\n",
    "\n",
    "#consistent state names across both datasets\n",
    "yale_climate['geoname'] = yale_climate['geoname'].str.upper() \n",
    "yale_climate.head()"
   ]
  },
  {
   "cell_type": "markdown",
   "metadata": {},
   "source": [
    "The year data is originally stored as columns, but for the purpose of our study, it would make more sense to expand the data vertically and shrink it horizontally. This is done by using pandas \"melt\" function:"
   ]
  },
  {
   "cell_type": "code",
   "execution_count": 5,
   "metadata": {
    "scrolled": true
   },
   "outputs": [
    {
     "data": {
      "text/html": [
       "<div>\n",
       "<style scoped>\n",
       "    .dataframe tbody tr th:only-of-type {\n",
       "        vertical-align: middle;\n",
       "    }\n",
       "\n",
       "    .dataframe tbody tr th {\n",
       "        vertical-align: top;\n",
       "    }\n",
       "\n",
       "    .dataframe thead th {\n",
       "        text-align: right;\n",
       "    }\n",
       "</style>\n",
       "<table border=\"1\" class=\"dataframe\">\n",
       "  <thead>\n",
       "    <tr style=\"text-align: right;\">\n",
       "      <th></th>\n",
       "      <th>geoname</th>\n",
       "      <th>varname</th>\n",
       "      <th>year</th>\n",
       "      <th>percentage</th>\n",
       "    </tr>\n",
       "  </thead>\n",
       "  <tbody>\n",
       "    <tr>\n",
       "      <th>0</th>\n",
       "      <td>ALABAMA</td>\n",
       "      <td>affectweather</td>\n",
       "      <td>2018</td>\n",
       "      <td>52.66</td>\n",
       "    </tr>\n",
       "    <tr>\n",
       "      <th>1</th>\n",
       "      <td>ALASKA</td>\n",
       "      <td>affectweather</td>\n",
       "      <td>2018</td>\n",
       "      <td>57.48</td>\n",
       "    </tr>\n",
       "    <tr>\n",
       "      <th>2</th>\n",
       "      <td>ARIZONA</td>\n",
       "      <td>affectweather</td>\n",
       "      <td>2018</td>\n",
       "      <td>60.32</td>\n",
       "    </tr>\n",
       "    <tr>\n",
       "      <th>3</th>\n",
       "      <td>ARKANSAS</td>\n",
       "      <td>affectweather</td>\n",
       "      <td>2018</td>\n",
       "      <td>53.17</td>\n",
       "    </tr>\n",
       "    <tr>\n",
       "      <th>4</th>\n",
       "      <td>CALIFORNIA</td>\n",
       "      <td>affectweather</td>\n",
       "      <td>2018</td>\n",
       "      <td>67.21</td>\n",
       "    </tr>\n",
       "  </tbody>\n",
       "</table>\n",
       "</div>"
      ],
      "text/plain": [
       "      geoname        varname  year  percentage\n",
       "0     ALABAMA  affectweather  2018       52.66\n",
       "1      ALASKA  affectweather  2018       57.48\n",
       "2     ARIZONA  affectweather  2018       60.32\n",
       "3    ARKANSAS  affectweather  2018       53.17\n",
       "4  CALIFORNIA  affectweather  2018       67.21"
      ]
     },
     "execution_count": 5,
     "metadata": {},
     "output_type": "execute_result"
    }
   ],
   "source": [
    "melted = pd.melt(yale_climate, id_vars=['geoname', 'varname'], var_name='year', value_name='percentage')\n",
    "melted['year'] = melted['year'].str.replace('x','').astype(int)\n",
    "yale_climate = melted\n",
    "yale_climate.head()"
   ]
  },
  {
   "cell_type": "markdown",
   "metadata": {},
   "source": [
    "The above output shows the final version of the yale climate dataset, formatted so that it can be easily merged with the storm events data."
   ]
  },
  {
   "cell_type": "markdown",
   "metadata": {},
   "source": [
    "### Storm Data"
   ]
  },
  {
   "cell_type": "markdown",
   "metadata": {},
   "source": [
    "The storm data has to be download by year, so there is a csv file corresponding to each year we want to look at. We chose the range of 2018-2023, as the yale climate data has many missing values before 2018. The code below loads each csv file in and creates two DataFrames: one for event count by state, and one maintaining all of the event data."
   ]
  },
  {
   "cell_type": "code",
   "execution_count": 25,
   "metadata": {},
   "outputs": [
    {
     "data": {
      "text/html": [
       "<div>\n",
       "<style scoped>\n",
       "    .dataframe tbody tr th:only-of-type {\n",
       "        vertical-align: middle;\n",
       "    }\n",
       "\n",
       "    .dataframe tbody tr th {\n",
       "        vertical-align: top;\n",
       "    }\n",
       "\n",
       "    .dataframe thead th {\n",
       "        text-align: right;\n",
       "    }\n",
       "</style>\n",
       "<table border=\"1\" class=\"dataframe\">\n",
       "  <thead>\n",
       "    <tr style=\"text-align: right;\">\n",
       "      <th></th>\n",
       "      <th>STATE</th>\n",
       "      <th>EVENT_TYPE</th>\n",
       "      <th>YEAR</th>\n",
       "      <th>EPISODE_ID</th>\n",
       "      <th>EPISODE_NARRATIVE</th>\n",
       "      <th>INJURIES_DIRECT</th>\n",
       "      <th>INJURIES_INDIRECT</th>\n",
       "      <th>DEATHS_DIRECT</th>\n",
       "      <th>DEATHS_INDIRECT</th>\n",
       "    </tr>\n",
       "  </thead>\n",
       "  <tbody>\n",
       "    <tr>\n",
       "      <th>0</th>\n",
       "      <td>NORTH DAKOTA</td>\n",
       "      <td>Heavy Snow</td>\n",
       "      <td>2023</td>\n",
       "      <td>186682</td>\n",
       "      <td>In late October, a winter storm dumped heavy s...</td>\n",
       "      <td>0</td>\n",
       "      <td>0</td>\n",
       "      <td>0</td>\n",
       "      <td>0</td>\n",
       "    </tr>\n",
       "    <tr>\n",
       "      <th>6</th>\n",
       "      <td>MISSISSIPPI</td>\n",
       "      <td>Thunderstorm Wind</td>\n",
       "      <td>2023</td>\n",
       "      <td>180848</td>\n",
       "      <td>In the afternoon and evening of the 24th, clus...</td>\n",
       "      <td>0</td>\n",
       "      <td>0</td>\n",
       "      <td>0</td>\n",
       "      <td>0</td>\n",
       "    </tr>\n",
       "    <tr>\n",
       "      <th>7</th>\n",
       "      <td>MINNESOTA</td>\n",
       "      <td>Drought</td>\n",
       "      <td>2023</td>\n",
       "      <td>186724</td>\n",
       "      <td>D2 Drought continued from September into early...</td>\n",
       "      <td>0</td>\n",
       "      <td>0</td>\n",
       "      <td>0</td>\n",
       "      <td>0</td>\n",
       "    </tr>\n",
       "    <tr>\n",
       "      <th>9</th>\n",
       "      <td>ILLINOIS</td>\n",
       "      <td>Thunderstorm Wind</td>\n",
       "      <td>2023</td>\n",
       "      <td>184619</td>\n",
       "      <td>A vigorous short-wave trough interacted with a...</td>\n",
       "      <td>0</td>\n",
       "      <td>0</td>\n",
       "      <td>0</td>\n",
       "      <td>0</td>\n",
       "    </tr>\n",
       "    <tr>\n",
       "      <th>11</th>\n",
       "      <td>VIRGINIA</td>\n",
       "      <td>Thunderstorm Wind</td>\n",
       "      <td>2023</td>\n",
       "      <td>185704</td>\n",
       "      <td>Scattered severe thunderstorms in advance of a...</td>\n",
       "      <td>0</td>\n",
       "      <td>0</td>\n",
       "      <td>0</td>\n",
       "      <td>0</td>\n",
       "    </tr>\n",
       "    <tr>\n",
       "      <th>...</th>\n",
       "      <td>...</td>\n",
       "      <td>...</td>\n",
       "      <td>...</td>\n",
       "      <td>...</td>\n",
       "      <td>...</td>\n",
       "      <td>...</td>\n",
       "      <td>...</td>\n",
       "      <td>...</td>\n",
       "      <td>...</td>\n",
       "    </tr>\n",
       "    <tr>\n",
       "      <th>74851</th>\n",
       "      <td>TEXAS</td>\n",
       "      <td>Thunderstorm Wind</td>\n",
       "      <td>2023</td>\n",
       "      <td>186385</td>\n",
       "      <td>Thunderstorms developed along a cold front as ...</td>\n",
       "      <td>0</td>\n",
       "      <td>0</td>\n",
       "      <td>0</td>\n",
       "      <td>0</td>\n",
       "    </tr>\n",
       "    <tr>\n",
       "      <th>74858</th>\n",
       "      <td>NEW HAMPSHIRE</td>\n",
       "      <td>Flash Flood</td>\n",
       "      <td>2023</td>\n",
       "      <td>184741</td>\n",
       "      <td>An area of low pressure moved northeast from M...</td>\n",
       "      <td>0</td>\n",
       "      <td>0</td>\n",
       "      <td>0</td>\n",
       "      <td>0</td>\n",
       "    </tr>\n",
       "    <tr>\n",
       "      <th>74863</th>\n",
       "      <td>TEXAS</td>\n",
       "      <td>Wildfire</td>\n",
       "      <td>2023</td>\n",
       "      <td>185514</td>\n",
       "      <td>While weather conditions were pretty tame, we ...</td>\n",
       "      <td>0</td>\n",
       "      <td>0</td>\n",
       "      <td>0</td>\n",
       "      <td>0</td>\n",
       "    </tr>\n",
       "    <tr>\n",
       "      <th>74864</th>\n",
       "      <td>TEXAS</td>\n",
       "      <td>Wildfire</td>\n",
       "      <td>2023</td>\n",
       "      <td>185515</td>\n",
       "      <td>Hot conditions continued for the eastern Panha...</td>\n",
       "      <td>0</td>\n",
       "      <td>0</td>\n",
       "      <td>0</td>\n",
       "      <td>0</td>\n",
       "    </tr>\n",
       "    <tr>\n",
       "      <th>74898</th>\n",
       "      <td>WYOMING</td>\n",
       "      <td>Hail</td>\n",
       "      <td>2023</td>\n",
       "      <td>184461</td>\n",
       "      <td>An isolated thunderstorm produced quarter size...</td>\n",
       "      <td>0</td>\n",
       "      <td>0</td>\n",
       "      <td>0</td>\n",
       "      <td>0</td>\n",
       "    </tr>\n",
       "  </tbody>\n",
       "</table>\n",
       "<p>9390 rows × 9 columns</p>\n",
       "</div>"
      ],
      "text/plain": [
       "               STATE         EVENT_TYPE  YEAR  EPISODE_ID  \\\n",
       "0       NORTH DAKOTA         Heavy Snow  2023      186682   \n",
       "6        MISSISSIPPI  Thunderstorm Wind  2023      180848   \n",
       "7          MINNESOTA            Drought  2023      186724   \n",
       "9           ILLINOIS  Thunderstorm Wind  2023      184619   \n",
       "11          VIRGINIA  Thunderstorm Wind  2023      185704   \n",
       "...              ...                ...   ...         ...   \n",
       "74851          TEXAS  Thunderstorm Wind  2023      186385   \n",
       "74858  NEW HAMPSHIRE        Flash Flood  2023      184741   \n",
       "74863          TEXAS           Wildfire  2023      185514   \n",
       "74864          TEXAS           Wildfire  2023      185515   \n",
       "74898        WYOMING               Hail  2023      184461   \n",
       "\n",
       "                                       EPISODE_NARRATIVE  INJURIES_DIRECT  \\\n",
       "0      In late October, a winter storm dumped heavy s...                0   \n",
       "6      In the afternoon and evening of the 24th, clus...                0   \n",
       "7      D2 Drought continued from September into early...                0   \n",
       "9      A vigorous short-wave trough interacted with a...                0   \n",
       "11     Scattered severe thunderstorms in advance of a...                0   \n",
       "...                                                  ...              ...   \n",
       "74851  Thunderstorms developed along a cold front as ...                0   \n",
       "74858  An area of low pressure moved northeast from M...                0   \n",
       "74863  While weather conditions were pretty tame, we ...                0   \n",
       "74864  Hot conditions continued for the eastern Panha...                0   \n",
       "74898  An isolated thunderstorm produced quarter size...                0   \n",
       "\n",
       "       INJURIES_INDIRECT  DEATHS_DIRECT  DEATHS_INDIRECT  \n",
       "0                      0              0                0  \n",
       "6                      0              0                0  \n",
       "7                      0              0                0  \n",
       "9                      0              0                0  \n",
       "11                     0              0                0  \n",
       "...                  ...            ...              ...  \n",
       "74851                  0              0                0  \n",
       "74858                  0              0                0  \n",
       "74863                  0              0                0  \n",
       "74864                  0              0                0  \n",
       "74898                  0              0                0  \n",
       "\n",
       "[9390 rows x 9 columns]"
      ]
     },
     "execution_count": 25,
     "metadata": {},
     "output_type": "execute_result"
    }
   ],
   "source": [
    "df = pd.read_csv(f'data/storm_dataset{2023}.csv')\n",
    "     #filters out non states\n",
    "df = df[df['STATE'].isin(state_names)] \n",
    "    #there are multiple events for the same episode, this removes them\n",
    "unique = df.drop_duplicates(subset=['STATE_FIPS', 'EPISODE_ID']) \n",
    "agg_funcs = {\n",
    "    'EVENT_ID': 'count',\n",
    "    'YEAR': 'first',\n",
    "}\n",
    "by_state = unique.groupby('STATE').agg(agg_funcs).reset_index()\n",
    "by_state = by_state.rename({'EVENT_ID': 'COUNT'}, axis=1)\n",
    "     #only columns we might use\n",
    "events = unique[['STATE', 'EVENT_TYPE', 'YEAR', 'EPISODE_ID', 'EPISODE_NARRATIVE',  'INJURIES_DIRECT', 'INJURIES_INDIRECT', 'DEATHS_DIRECT', 'DEATHS_INDIRECT']]\n",
    "events"
   ]
  },
  {
   "cell_type": "code",
   "execution_count": 26,
   "metadata": {
    "scrolled": true
   },
   "outputs": [],
   "source": [
    "event_dfs = []\n",
    "by_state_dfs = []\n",
    "def load_storm(year):\n",
    "    df = pd.read_csv(f'data/storm_dataset{year}.csv')\n",
    "     #filters out non states\n",
    "    df = df[df['STATE'].isin(state_names)] \n",
    "    #there are multiple events for the same episode, this removes them\n",
    "    unique = df.drop_duplicates(subset=['STATE_FIPS', 'EPISODE_ID']) \n",
    "    agg_funcs = {\n",
    "        'EVENT_ID': 'count',\n",
    "        'YEAR': 'first',\n",
    "    }\n",
    "    by_state = unique.groupby('STATE').agg(agg_funcs).reset_index()\n",
    "    by_state = by_state.rename({'EVENT_ID': 'COUNT'}, axis=1)\n",
    "     #only columns we might use\n",
    "    events = unique[['STATE', 'EVENT_TYPE', 'YEAR', 'EPISODE_ID', 'EPISODE_NARRATIVE',  'INJURIES_DIRECT', 'INJURIES_INDIRECT', 'DEATHS_DIRECT', 'DEATHS_INDIRECT']]\n",
    "    event_dfs.append(events)\n",
    "    by_state_dfs.append(by_state)"
   ]
  },
  {
   "cell_type": "code",
   "execution_count": 27,
   "metadata": {
    "scrolled": true
   },
   "outputs": [],
   "source": [
    "years = [2018 + i for i in range(6)]\n",
    "for year in years:\n",
    "    load_storm(year)"
   ]
  },
  {
   "cell_type": "code",
   "execution_count": 28,
   "metadata": {
    "scrolled": true
   },
   "outputs": [
    {
     "data": {
      "text/html": [
       "<div>\n",
       "<style scoped>\n",
       "    .dataframe tbody tr th:only-of-type {\n",
       "        vertical-align: middle;\n",
       "    }\n",
       "\n",
       "    .dataframe tbody tr th {\n",
       "        vertical-align: top;\n",
       "    }\n",
       "\n",
       "    .dataframe thead th {\n",
       "        text-align: right;\n",
       "    }\n",
       "</style>\n",
       "<table border=\"1\" class=\"dataframe\">\n",
       "  <thead>\n",
       "    <tr style=\"text-align: right;\">\n",
       "      <th></th>\n",
       "      <th>STATE</th>\n",
       "      <th>COUNT</th>\n",
       "      <th>YEAR</th>\n",
       "    </tr>\n",
       "  </thead>\n",
       "  <tbody>\n",
       "    <tr>\n",
       "      <th>0</th>\n",
       "      <td>ALABAMA</td>\n",
       "      <td>149</td>\n",
       "      <td>2018</td>\n",
       "    </tr>\n",
       "    <tr>\n",
       "      <th>1</th>\n",
       "      <td>ALASKA</td>\n",
       "      <td>68</td>\n",
       "      <td>2018</td>\n",
       "    </tr>\n",
       "    <tr>\n",
       "      <th>2</th>\n",
       "      <td>ARIZONA</td>\n",
       "      <td>277</td>\n",
       "      <td>2018</td>\n",
       "    </tr>\n",
       "    <tr>\n",
       "      <th>3</th>\n",
       "      <td>ARKANSAS</td>\n",
       "      <td>191</td>\n",
       "      <td>2018</td>\n",
       "    </tr>\n",
       "    <tr>\n",
       "      <th>4</th>\n",
       "      <td>CALIFORNIA</td>\n",
       "      <td>337</td>\n",
       "      <td>2018</td>\n",
       "    </tr>\n",
       "    <tr>\n",
       "      <th>...</th>\n",
       "      <td>...</td>\n",
       "      <td>...</td>\n",
       "      <td>...</td>\n",
       "    </tr>\n",
       "    <tr>\n",
       "      <th>45</th>\n",
       "      <td>VIRGINIA</td>\n",
       "      <td>212</td>\n",
       "      <td>2023</td>\n",
       "    </tr>\n",
       "    <tr>\n",
       "      <th>46</th>\n",
       "      <td>WASHINGTON</td>\n",
       "      <td>107</td>\n",
       "      <td>2023</td>\n",
       "    </tr>\n",
       "    <tr>\n",
       "      <th>47</th>\n",
       "      <td>WEST VIRGINIA</td>\n",
       "      <td>131</td>\n",
       "      <td>2023</td>\n",
       "    </tr>\n",
       "    <tr>\n",
       "      <th>48</th>\n",
       "      <td>WISCONSIN</td>\n",
       "      <td>211</td>\n",
       "      <td>2023</td>\n",
       "    </tr>\n",
       "    <tr>\n",
       "      <th>49</th>\n",
       "      <td>WYOMING</td>\n",
       "      <td>235</td>\n",
       "      <td>2023</td>\n",
       "    </tr>\n",
       "  </tbody>\n",
       "</table>\n",
       "<p>300 rows × 3 columns</p>\n",
       "</div>"
      ],
      "text/plain": [
       "            STATE  COUNT  YEAR\n",
       "0         ALABAMA    149  2018\n",
       "1          ALASKA     68  2018\n",
       "2         ARIZONA    277  2018\n",
       "3        ARKANSAS    191  2018\n",
       "4      CALIFORNIA    337  2018\n",
       "..            ...    ...   ...\n",
       "45       VIRGINIA    212  2023\n",
       "46     WASHINGTON    107  2023\n",
       "47  WEST VIRGINIA    131  2023\n",
       "48      WISCONSIN    211  2023\n",
       "49        WYOMING    235  2023\n",
       "\n",
       "[300 rows x 3 columns]"
      ]
     },
     "execution_count": 28,
     "metadata": {},
     "output_type": "execute_result"
    }
   ],
   "source": [
    "#note: some 'states' on here are not actual states (like Lake Superior) - we will ignore these for now\n",
    "events_df = pd.concat(event_dfs, axis=0)\n",
    "event_count_df = pd.concat(by_state_dfs, axis=0)\n",
    "event_count_df"
   ]
  },
  {
   "cell_type": "markdown",
   "metadata": {},
   "source": [
    "The output above shows what the event count DataFrame looks like after merging all of the storm datasets into one."
   ]
  },
  {
   "cell_type": "code",
   "execution_count": 29,
   "metadata": {
    "scrolled": true
   },
   "outputs": [],
   "source": [
    "events_df_merged = events_df.merge(yale_climate, how='inner', left_on=['STATE', 'YEAR'], right_on=['geoname','year'])\n",
    "\n",
    "#data for each event type along with yale climate data\n",
    "events_df_merged = events_df_merged.drop(columns=['geoname', 'year']) "
   ]
  },
  {
   "cell_type": "code",
   "execution_count": 30,
   "metadata": {
    "scrolled": true
   },
   "outputs": [],
   "source": [
    "event_count_merged = event_count_df.merge(yale_climate, how='inner', left_on=['STATE', 'YEAR'], right_on=['geoname', 'year'])\n",
    "\n",
    "#data with number of events for each year along with the yale climate data\n",
    "event_count_merged = event_count_merged.drop(columns=['geoname', 'year']) "
   ]
  },
  {
   "cell_type": "markdown",
   "metadata": {},
   "source": [
    "### Missingness"
   ]
  },
  {
   "cell_type": "markdown",
   "metadata": {},
   "source": [
    "Lets start by looking at the amount of null values per column:"
   ]
  },
  {
   "cell_type": "code",
   "execution_count": 31,
   "metadata": {
    "scrolled": true
   },
   "outputs": [
    {
     "data": {
      "text/plain": [
       "STATE            0\n",
       "COUNT            0\n",
       "YEAR             0\n",
       "varname          0\n",
       "percentage    3700\n",
       "dtype: int64"
      ]
     },
     "execution_count": 31,
     "metadata": {},
     "output_type": "execute_result"
    }
   ],
   "source": [
    "event_count_merged.isnull().sum()"
   ]
  },
  {
   "cell_type": "code",
   "execution_count": 32,
   "metadata": {
    "scrolled": true
   },
   "outputs": [
    {
     "data": {
      "text/plain": [
       "STATE                     0\n",
       "EVENT_TYPE                0\n",
       "YEAR                      0\n",
       "EPISODE_ID                0\n",
       "EPISODE_NARRATIVE         0\n",
       "INJURIES_DIRECT           0\n",
       "INJURIES_INDIRECT         0\n",
       "DEATHS_DIRECT             0\n",
       "DEATHS_INDIRECT           0\n",
       "varname                   0\n",
       "percentage           683607\n",
       "dtype: int64"
      ]
     },
     "execution_count": 32,
     "metadata": {},
     "output_type": "execute_result"
    }
   ],
   "source": [
    "events_df_merged.isnull().sum()"
   ]
  },
  {
   "cell_type": "markdown",
   "metadata": {},
   "source": [
    "For both of the DataFrames in question, there are no null values from the extreme weather event data (at least for the columns of interest). However, there are many null values in the 'percentage' column, suggesting that there are null values from the Yale Climate dataset.\n",
    "\n",
    "Lets see what the rows with the null values look like:"
   ]
  },
  {
   "cell_type": "code",
   "execution_count": 33,
   "metadata": {
    "scrolled": true
   },
   "outputs": [
    {
     "data": {
      "text/plain": [
       "array(['expOppose', 'generaterenewable', 'generaterenewableOppose',\n",
       "       'gwvoteimp', 'gwvoteimpOppose', 'president', 'presidentOppose',\n",
       "       'priority', 'priorityOppose', 'prioritycleanenergy',\n",
       "       'prioritycleanenergyOppose', 'taxdividend', 'taxdividendOppose',\n",
       "       'trustclimscisst', 'trustclimscisstOppose', 'prienv',\n",
       "       'prienvOppose', 'important', 'co2limits', 'co2limitsOppose',\n",
       "       'supportrps', 'supportrpsOppose'], dtype=object)"
      ]
     },
     "execution_count": 33,
     "metadata": {},
     "output_type": "execute_result"
    }
   ],
   "source": [
    "event_count_merged[event_count_merged['percentage'].isnull()]['varname'].unique()"
   ]
  },
  {
   "cell_type": "markdown",
   "metadata": {},
   "source": [
    "These null values look to be tied to specific questions. Depending on what questions are investigated, this could prove to be an issue."
   ]
  },
  {
   "cell_type": "markdown",
   "metadata": {},
   "source": [
    "The questions we want to investigate, as mentioned in our research question, are as follows:\n",
    "- Is global warming is affecting the weather? \n",
    "- Are you worried about global warming?\n",
    "- Do you support regulating CO2 as a pollutant?\n",
    "- Should my governor be doing more to address global warming?\n",
    "- Do you discuss global warming at least occasionally? \n",
    "> **note:**  Questions are mapped to variable names. See the Metadata sheet in the file `data/YCOM7_publicdata.xlsx` for more information.\n",
    "\n",
    "<br><br>\n",
    "Lets filter the dataframes so that only these questions are in the dataset:"
   ]
  },
  {
   "cell_type": "code",
   "execution_count": 34,
   "metadata": {
    "scrolled": true
   },
   "outputs": [],
   "source": [
    "research_questions = ['affectweather', 'worried', 'regulate', 'governor', 'discuss'] \n",
    "\n",
    "#filter by varname of questions\n",
    "events_df_merged = events_df_merged[events_df_merged['varname'].isin(research_questions)]\n",
    "event_count_merged = event_count_merged[event_count_merged['varname'].isin(research_questions)]"
   ]
  },
  {
   "cell_type": "code",
   "execution_count": 35,
   "metadata": {
    "scrolled": true
   },
   "outputs": [
    {
     "data": {
      "text/plain": [
       "STATE                0\n",
       "EVENT_TYPE           0\n",
       "YEAR                 0\n",
       "EPISODE_ID           0\n",
       "EPISODE_NARRATIVE    0\n",
       "INJURIES_DIRECT      0\n",
       "INJURIES_INDIRECT    0\n",
       "DEATHS_DIRECT        0\n",
       "DEATHS_INDIRECT      0\n",
       "varname              0\n",
       "percentage           0\n",
       "dtype: int64"
      ]
     },
     "execution_count": 35,
     "metadata": {},
     "output_type": "execute_result"
    }
   ],
   "source": [
    "events_df_merged.isnull().sum()"
   ]
  },
  {
   "cell_type": "code",
   "execution_count": 36,
   "metadata": {
    "scrolled": true
   },
   "outputs": [
    {
     "data": {
      "text/plain": [
       "STATE         0\n",
       "COUNT         0\n",
       "YEAR          0\n",
       "varname       0\n",
       "percentage    0\n",
       "dtype: int64"
      ]
     },
     "execution_count": 36,
     "metadata": {},
     "output_type": "execute_result"
    }
   ],
   "source": [
    "event_count_merged.isnull().sum()"
   ]
  },
  {
   "cell_type": "markdown",
   "metadata": {},
   "source": [
    "As we can see from the output of the previous two cells, there is no missing data after we filter for the questions of interest. This means that no methods such as mean imputation are necessary to deal with missing data."
   ]
  },
  {
   "cell_type": "markdown",
   "metadata": {},
   "source": [
    "# EDA"
   ]
  },
  {
   "cell_type": "markdown",
   "metadata": {},
   "source": [
    "### Most common weather events by state:\n",
    "\n",
    "Some states naturally have more extreme weather events because of their geographical location. By analyzing which weather events are most prevalent in each state and matching it with our research on what events are most driven by climate change, we can select the best states to single out when we do our hypothesis testing."
   ]
  },
  {
   "cell_type": "code",
   "execution_count": 37,
   "metadata": {
    "scrolled": true
   },
   "outputs": [
    {
     "data": {
      "text/html": [
       "<div>\n",
       "<style scoped>\n",
       "    .dataframe tbody tr th:only-of-type {\n",
       "        vertical-align: middle;\n",
       "    }\n",
       "\n",
       "    .dataframe tbody tr th {\n",
       "        vertical-align: top;\n",
       "    }\n",
       "\n",
       "    .dataframe thead th {\n",
       "        text-align: right;\n",
       "    }\n",
       "</style>\n",
       "<table border=\"1\" class=\"dataframe\">\n",
       "  <thead>\n",
       "    <tr style=\"text-align: right;\">\n",
       "      <th></th>\n",
       "      <th>STATE</th>\n",
       "      <th>EVENT_TYPE</th>\n",
       "      <th>counts</th>\n",
       "    </tr>\n",
       "  </thead>\n",
       "  <tbody>\n",
       "    <tr>\n",
       "      <th>0</th>\n",
       "      <td>ALABAMA</td>\n",
       "      <td>Coastal Flood</td>\n",
       "      <td>1</td>\n",
       "    </tr>\n",
       "    <tr>\n",
       "      <th>1</th>\n",
       "      <td>ALABAMA</td>\n",
       "      <td>Cold/Wind Chill</td>\n",
       "      <td>5</td>\n",
       "    </tr>\n",
       "    <tr>\n",
       "      <th>2</th>\n",
       "      <td>ALABAMA</td>\n",
       "      <td>Drought</td>\n",
       "      <td>45</td>\n",
       "    </tr>\n",
       "    <tr>\n",
       "      <th>3</th>\n",
       "      <td>ALABAMA</td>\n",
       "      <td>Excessive Heat</td>\n",
       "      <td>11</td>\n",
       "    </tr>\n",
       "    <tr>\n",
       "      <th>4</th>\n",
       "      <td>ALABAMA</td>\n",
       "      <td>Flash Flood</td>\n",
       "      <td>89</td>\n",
       "    </tr>\n",
       "    <tr>\n",
       "      <th>...</th>\n",
       "      <td>...</td>\n",
       "      <td>...</td>\n",
       "      <td>...</td>\n",
       "    </tr>\n",
       "    <tr>\n",
       "      <th>1243</th>\n",
       "      <td>WYOMING</td>\n",
       "      <td>Thunderstorm Wind</td>\n",
       "      <td>198</td>\n",
       "    </tr>\n",
       "    <tr>\n",
       "      <th>1244</th>\n",
       "      <td>WYOMING</td>\n",
       "      <td>Tornado</td>\n",
       "      <td>20</td>\n",
       "    </tr>\n",
       "    <tr>\n",
       "      <th>1245</th>\n",
       "      <td>WYOMING</td>\n",
       "      <td>Wildfire</td>\n",
       "      <td>22</td>\n",
       "    </tr>\n",
       "    <tr>\n",
       "      <th>1246</th>\n",
       "      <td>WYOMING</td>\n",
       "      <td>Winter Storm</td>\n",
       "      <td>176</td>\n",
       "    </tr>\n",
       "    <tr>\n",
       "      <th>1247</th>\n",
       "      <td>WYOMING</td>\n",
       "      <td>Winter Weather</td>\n",
       "      <td>91</td>\n",
       "    </tr>\n",
       "  </tbody>\n",
       "</table>\n",
       "<p>1248 rows × 3 columns</p>\n",
       "</div>"
      ],
      "text/plain": [
       "        STATE         EVENT_TYPE  counts\n",
       "0     ALABAMA      Coastal Flood       1\n",
       "1     ALABAMA    Cold/Wind Chill       5\n",
       "2     ALABAMA            Drought      45\n",
       "3     ALABAMA     Excessive Heat      11\n",
       "4     ALABAMA        Flash Flood      89\n",
       "...       ...                ...     ...\n",
       "1243  WYOMING  Thunderstorm Wind     198\n",
       "1244  WYOMING            Tornado      20\n",
       "1245  WYOMING           Wildfire      22\n",
       "1246  WYOMING       Winter Storm     176\n",
       "1247  WYOMING     Winter Weather      91\n",
       "\n",
       "[1248 rows x 3 columns]"
      ]
     },
     "execution_count": 37,
     "metadata": {},
     "output_type": "execute_result"
    }
   ],
   "source": [
    "#For each state, here are the counts of each type of weather event\n",
    "event_counts = events_df.groupby(['STATE', 'EVENT_TYPE']).size().reset_index(name='counts')\n",
    "event_counts"
   ]
  },
  {
   "cell_type": "code",
   "execution_count": 38,
   "metadata": {
    "scrolled": true
   },
   "outputs": [
    {
     "data": {
      "text/html": [
       "<div>\n",
       "<style scoped>\n",
       "    .dataframe tbody tr th:only-of-type {\n",
       "        vertical-align: middle;\n",
       "    }\n",
       "\n",
       "    .dataframe tbody tr th {\n",
       "        vertical-align: top;\n",
       "    }\n",
       "\n",
       "    .dataframe thead th {\n",
       "        text-align: right;\n",
       "    }\n",
       "</style>\n",
       "<table border=\"1\" class=\"dataframe\">\n",
       "  <thead>\n",
       "    <tr style=\"text-align: right;\">\n",
       "      <th></th>\n",
       "      <th>STATE</th>\n",
       "      <th>EVENT_TYPE</th>\n",
       "      <th>counts</th>\n",
       "    </tr>\n",
       "  </thead>\n",
       "  <tbody>\n",
       "    <tr>\n",
       "      <th>20</th>\n",
       "      <td>ALABAMA</td>\n",
       "      <td>Thunderstorm Wind</td>\n",
       "      <td>393</td>\n",
       "    </tr>\n",
       "    <tr>\n",
       "      <th>39</th>\n",
       "      <td>ALASKA</td>\n",
       "      <td>High Wind</td>\n",
       "      <td>149</td>\n",
       "    </tr>\n",
       "    <tr>\n",
       "      <th>57</th>\n",
       "      <td>ARIZONA</td>\n",
       "      <td>Flash Flood</td>\n",
       "      <td>308</td>\n",
       "    </tr>\n",
       "    <tr>\n",
       "      <th>89</th>\n",
       "      <td>ARKANSAS</td>\n",
       "      <td>Thunderstorm Wind</td>\n",
       "      <td>295</td>\n",
       "    </tr>\n",
       "    <tr>\n",
       "      <th>118</th>\n",
       "      <td>CALIFORNIA</td>\n",
       "      <td>High Wind</td>\n",
       "      <td>477</td>\n",
       "    </tr>\n",
       "    <tr>\n",
       "      <th>147</th>\n",
       "      <td>COLORADO</td>\n",
       "      <td>Hail</td>\n",
       "      <td>378</td>\n",
       "    </tr>\n",
       "    <tr>\n",
       "      <th>177</th>\n",
       "      <td>CONNECTICUT</td>\n",
       "      <td>Thunderstorm Wind</td>\n",
       "      <td>114</td>\n",
       "    </tr>\n",
       "    <tr>\n",
       "      <th>196</th>\n",
       "      <td>DELAWARE</td>\n",
       "      <td>Thunderstorm Wind</td>\n",
       "      <td>70</td>\n",
       "    </tr>\n",
       "    <tr>\n",
       "      <th>221</th>\n",
       "      <td>FLORIDA</td>\n",
       "      <td>Thunderstorm Wind</td>\n",
       "      <td>514</td>\n",
       "    </tr>\n",
       "    <tr>\n",
       "      <th>248</th>\n",
       "      <td>GEORGIA</td>\n",
       "      <td>Thunderstorm Wind</td>\n",
       "      <td>537</td>\n",
       "    </tr>\n",
       "    <tr>\n",
       "      <th>264</th>\n",
       "      <td>HAWAII</td>\n",
       "      <td>High Surf</td>\n",
       "      <td>178</td>\n",
       "    </tr>\n",
       "    <tr>\n",
       "      <th>291</th>\n",
       "      <td>IDAHO</td>\n",
       "      <td>Heavy Snow</td>\n",
       "      <td>154</td>\n",
       "    </tr>\n",
       "    <tr>\n",
       "      <th>326</th>\n",
       "      <td>ILLINOIS</td>\n",
       "      <td>Thunderstorm Wind</td>\n",
       "      <td>361</td>\n",
       "    </tr>\n",
       "    <tr>\n",
       "      <th>353</th>\n",
       "      <td>INDIANA</td>\n",
       "      <td>Thunderstorm Wind</td>\n",
       "      <td>349</td>\n",
       "    </tr>\n",
       "    <tr>\n",
       "      <th>369</th>\n",
       "      <td>IOWA</td>\n",
       "      <td>Hail</td>\n",
       "      <td>235</td>\n",
       "    </tr>\n",
       "    <tr>\n",
       "      <th>392</th>\n",
       "      <td>KANSAS</td>\n",
       "      <td>Hail</td>\n",
       "      <td>534</td>\n",
       "    </tr>\n",
       "    <tr>\n",
       "      <th>425</th>\n",
       "      <td>KENTUCKY</td>\n",
       "      <td>Thunderstorm Wind</td>\n",
       "      <td>346</td>\n",
       "    </tr>\n",
       "    <tr>\n",
       "      <th>450</th>\n",
       "      <td>LOUISIANA</td>\n",
       "      <td>Thunderstorm Wind</td>\n",
       "      <td>248</td>\n",
       "    </tr>\n",
       "    <tr>\n",
       "      <th>475</th>\n",
       "      <td>MAINE</td>\n",
       "      <td>Thunderstorm Wind</td>\n",
       "      <td>84</td>\n",
       "    </tr>\n",
       "    <tr>\n",
       "      <th>499</th>\n",
       "      <td>MARYLAND</td>\n",
       "      <td>Thunderstorm Wind</td>\n",
       "      <td>317</td>\n",
       "    </tr>\n",
       "    <tr>\n",
       "      <th>520</th>\n",
       "      <td>MASSACHUSETTS</td>\n",
       "      <td>Thunderstorm Wind</td>\n",
       "      <td>102</td>\n",
       "    </tr>\n",
       "    <tr>\n",
       "      <th>546</th>\n",
       "      <td>MICHIGAN</td>\n",
       "      <td>Thunderstorm Wind</td>\n",
       "      <td>275</td>\n",
       "    </tr>\n",
       "    <tr>\n",
       "      <th>561</th>\n",
       "      <td>MINNESOTA</td>\n",
       "      <td>Hail</td>\n",
       "      <td>325</td>\n",
       "    </tr>\n",
       "    <tr>\n",
       "      <th>597</th>\n",
       "      <td>MISSISSIPPI</td>\n",
       "      <td>Thunderstorm Wind</td>\n",
       "      <td>302</td>\n",
       "    </tr>\n",
       "    <tr>\n",
       "      <th>623</th>\n",
       "      <td>MISSOURI</td>\n",
       "      <td>Thunderstorm Wind</td>\n",
       "      <td>331</td>\n",
       "    </tr>\n",
       "    <tr>\n",
       "      <th>645</th>\n",
       "      <td>MONTANA</td>\n",
       "      <td>High Wind</td>\n",
       "      <td>344</td>\n",
       "    </tr>\n",
       "    <tr>\n",
       "      <th>664</th>\n",
       "      <td>NEBRASKA</td>\n",
       "      <td>Hail</td>\n",
       "      <td>500</td>\n",
       "    </tr>\n",
       "    <tr>\n",
       "      <th>694</th>\n",
       "      <td>NEVADA</td>\n",
       "      <td>High Wind</td>\n",
       "      <td>221</td>\n",
       "    </tr>\n",
       "    <tr>\n",
       "      <th>719</th>\n",
       "      <td>NEW HAMPSHIRE</td>\n",
       "      <td>Thunderstorm Wind</td>\n",
       "      <td>55</td>\n",
       "    </tr>\n",
       "    <tr>\n",
       "      <th>741</th>\n",
       "      <td>NEW JERSEY</td>\n",
       "      <td>Thunderstorm Wind</td>\n",
       "      <td>172</td>\n",
       "    </tr>\n",
       "    <tr>\n",
       "      <th>761</th>\n",
       "      <td>NEW MEXICO</td>\n",
       "      <td>High Wind</td>\n",
       "      <td>286</td>\n",
       "    </tr>\n",
       "    <tr>\n",
       "      <th>794</th>\n",
       "      <td>NEW YORK</td>\n",
       "      <td>Thunderstorm Wind</td>\n",
       "      <td>426</td>\n",
       "    </tr>\n",
       "    <tr>\n",
       "      <th>821</th>\n",
       "      <td>NORTH CAROLINA</td>\n",
       "      <td>Thunderstorm Wind</td>\n",
       "      <td>630</td>\n",
       "    </tr>\n",
       "    <tr>\n",
       "      <th>840</th>\n",
       "      <td>NORTH DAKOTA</td>\n",
       "      <td>Hail</td>\n",
       "      <td>220</td>\n",
       "    </tr>\n",
       "    <tr>\n",
       "      <th>867</th>\n",
       "      <td>OHIO</td>\n",
       "      <td>Thunderstorm Wind</td>\n",
       "      <td>404</td>\n",
       "    </tr>\n",
       "    <tr>\n",
       "      <th>887</th>\n",
       "      <td>OKLAHOMA</td>\n",
       "      <td>Thunderstorm Wind</td>\n",
       "      <td>301</td>\n",
       "    </tr>\n",
       "    <tr>\n",
       "      <th>920</th>\n",
       "      <td>OREGON</td>\n",
       "      <td>Wildfire</td>\n",
       "      <td>160</td>\n",
       "    </tr>\n",
       "    <tr>\n",
       "      <th>944</th>\n",
       "      <td>PENNSYLVANIA</td>\n",
       "      <td>Thunderstorm Wind</td>\n",
       "      <td>497</td>\n",
       "    </tr>\n",
       "    <tr>\n",
       "      <th>959</th>\n",
       "      <td>RHODE ISLAND</td>\n",
       "      <td>Strong Wind</td>\n",
       "      <td>26</td>\n",
       "    </tr>\n",
       "    <tr>\n",
       "      <th>983</th>\n",
       "      <td>SOUTH CAROLINA</td>\n",
       "      <td>Thunderstorm Wind</td>\n",
       "      <td>436</td>\n",
       "    </tr>\n",
       "    <tr>\n",
       "      <th>1003</th>\n",
       "      <td>SOUTH DAKOTA</td>\n",
       "      <td>Hail</td>\n",
       "      <td>700</td>\n",
       "    </tr>\n",
       "    <tr>\n",
       "      <th>1034</th>\n",
       "      <td>TENNESSEE</td>\n",
       "      <td>Thunderstorm Wind</td>\n",
       "      <td>396</td>\n",
       "    </tr>\n",
       "    <tr>\n",
       "      <th>1065</th>\n",
       "      <td>TEXAS</td>\n",
       "      <td>Thunderstorm Wind</td>\n",
       "      <td>802</td>\n",
       "    </tr>\n",
       "    <tr>\n",
       "      <th>1085</th>\n",
       "      <td>UTAH</td>\n",
       "      <td>High Wind</td>\n",
       "      <td>86</td>\n",
       "    </tr>\n",
       "    <tr>\n",
       "      <th>1110</th>\n",
       "      <td>VERMONT</td>\n",
       "      <td>Thunderstorm Wind</td>\n",
       "      <td>76</td>\n",
       "    </tr>\n",
       "    <tr>\n",
       "      <th>1135</th>\n",
       "      <td>VIRGINIA</td>\n",
       "      <td>Thunderstorm Wind</td>\n",
       "      <td>599</td>\n",
       "    </tr>\n",
       "    <tr>\n",
       "      <th>1161</th>\n",
       "      <td>WASHINGTON</td>\n",
       "      <td>Heavy Snow</td>\n",
       "      <td>210</td>\n",
       "    </tr>\n",
       "    <tr>\n",
       "      <th>1193</th>\n",
       "      <td>WEST VIRGINIA</td>\n",
       "      <td>Thunderstorm Wind</td>\n",
       "      <td>266</td>\n",
       "    </tr>\n",
       "    <tr>\n",
       "      <th>1208</th>\n",
       "      <td>WISCONSIN</td>\n",
       "      <td>Hail</td>\n",
       "      <td>234</td>\n",
       "    </tr>\n",
       "    <tr>\n",
       "      <th>1240</th>\n",
       "      <td>WYOMING</td>\n",
       "      <td>High Wind</td>\n",
       "      <td>460</td>\n",
       "    </tr>\n",
       "  </tbody>\n",
       "</table>\n",
       "</div>"
      ],
      "text/plain": [
       "               STATE         EVENT_TYPE  counts\n",
       "20           ALABAMA  Thunderstorm Wind     393\n",
       "39            ALASKA          High Wind     149\n",
       "57           ARIZONA        Flash Flood     308\n",
       "89          ARKANSAS  Thunderstorm Wind     295\n",
       "118       CALIFORNIA          High Wind     477\n",
       "147         COLORADO               Hail     378\n",
       "177      CONNECTICUT  Thunderstorm Wind     114\n",
       "196         DELAWARE  Thunderstorm Wind      70\n",
       "221          FLORIDA  Thunderstorm Wind     514\n",
       "248          GEORGIA  Thunderstorm Wind     537\n",
       "264           HAWAII          High Surf     178\n",
       "291            IDAHO         Heavy Snow     154\n",
       "326         ILLINOIS  Thunderstorm Wind     361\n",
       "353          INDIANA  Thunderstorm Wind     349\n",
       "369             IOWA               Hail     235\n",
       "392           KANSAS               Hail     534\n",
       "425         KENTUCKY  Thunderstorm Wind     346\n",
       "450        LOUISIANA  Thunderstorm Wind     248\n",
       "475            MAINE  Thunderstorm Wind      84\n",
       "499         MARYLAND  Thunderstorm Wind     317\n",
       "520    MASSACHUSETTS  Thunderstorm Wind     102\n",
       "546         MICHIGAN  Thunderstorm Wind     275\n",
       "561        MINNESOTA               Hail     325\n",
       "597      MISSISSIPPI  Thunderstorm Wind     302\n",
       "623         MISSOURI  Thunderstorm Wind     331\n",
       "645          MONTANA          High Wind     344\n",
       "664         NEBRASKA               Hail     500\n",
       "694           NEVADA          High Wind     221\n",
       "719    NEW HAMPSHIRE  Thunderstorm Wind      55\n",
       "741       NEW JERSEY  Thunderstorm Wind     172\n",
       "761       NEW MEXICO          High Wind     286\n",
       "794         NEW YORK  Thunderstorm Wind     426\n",
       "821   NORTH CAROLINA  Thunderstorm Wind     630\n",
       "840     NORTH DAKOTA               Hail     220\n",
       "867             OHIO  Thunderstorm Wind     404\n",
       "887         OKLAHOMA  Thunderstorm Wind     301\n",
       "920           OREGON           Wildfire     160\n",
       "944     PENNSYLVANIA  Thunderstorm Wind     497\n",
       "959     RHODE ISLAND        Strong Wind      26\n",
       "983   SOUTH CAROLINA  Thunderstorm Wind     436\n",
       "1003    SOUTH DAKOTA               Hail     700\n",
       "1034       TENNESSEE  Thunderstorm Wind     396\n",
       "1065           TEXAS  Thunderstorm Wind     802\n",
       "1085            UTAH          High Wind      86\n",
       "1110         VERMONT  Thunderstorm Wind      76\n",
       "1135        VIRGINIA  Thunderstorm Wind     599\n",
       "1161      WASHINGTON         Heavy Snow     210\n",
       "1193   WEST VIRGINIA  Thunderstorm Wind     266\n",
       "1208       WISCONSIN               Hail     234\n",
       "1240         WYOMING          High Wind     460"
      ]
     },
     "execution_count": 38,
     "metadata": {},
     "output_type": "execute_result"
    }
   ],
   "source": [
    "#Now just the most common weather event for each state\n",
    "most_common_events = event_counts.loc[event_counts.groupby('STATE')['counts'].idxmax()]\n",
    "most_common_events"
   ]
  },
  {
   "cell_type": "code",
   "execution_count": 44,
   "metadata": {},
   "outputs": [
    {
     "data": {
      "text/html": [
       "<div>\n",
       "<style scoped>\n",
       "    .dataframe tbody tr th:only-of-type {\n",
       "        vertical-align: middle;\n",
       "    }\n",
       "\n",
       "    .dataframe tbody tr th {\n",
       "        vertical-align: top;\n",
       "    }\n",
       "\n",
       "    .dataframe thead th {\n",
       "        text-align: right;\n",
       "    }\n",
       "</style>\n",
       "<table border=\"1\" class=\"dataframe\">\n",
       "  <thead>\n",
       "    <tr style=\"text-align: right;\">\n",
       "      <th></th>\n",
       "      <th>STATE</th>\n",
       "      <th>counts</th>\n",
       "    </tr>\n",
       "  </thead>\n",
       "  <tbody>\n",
       "    <tr>\n",
       "      <th>42</th>\n",
       "      <td>TEXAS</td>\n",
       "      <td>878</td>\n",
       "    </tr>\n",
       "    <tr>\n",
       "      <th>4</th>\n",
       "      <td>CALIFORNIA</td>\n",
       "      <td>360</td>\n",
       "    </tr>\n",
       "    <tr>\n",
       "      <th>40</th>\n",
       "      <td>SOUTH DAKOTA</td>\n",
       "      <td>349</td>\n",
       "    </tr>\n",
       "    <tr>\n",
       "      <th>5</th>\n",
       "      <td>COLORADO</td>\n",
       "      <td>346</td>\n",
       "    </tr>\n",
       "    <tr>\n",
       "      <th>15</th>\n",
       "      <td>KANSAS</td>\n",
       "      <td>314</td>\n",
       "    </tr>\n",
       "    <tr>\n",
       "      <th>8</th>\n",
       "      <td>FLORIDA</td>\n",
       "      <td>307</td>\n",
       "    </tr>\n",
       "    <tr>\n",
       "      <th>26</th>\n",
       "      <td>NEBRASKA</td>\n",
       "      <td>302</td>\n",
       "    </tr>\n",
       "    <tr>\n",
       "      <th>35</th>\n",
       "      <td>OKLAHOMA</td>\n",
       "      <td>285</td>\n",
       "    </tr>\n",
       "    <tr>\n",
       "      <th>22</th>\n",
       "      <td>MINNESOTA</td>\n",
       "      <td>254</td>\n",
       "    </tr>\n",
       "    <tr>\n",
       "      <th>49</th>\n",
       "      <td>WYOMING</td>\n",
       "      <td>235</td>\n",
       "    </tr>\n",
       "    <tr>\n",
       "      <th>24</th>\n",
       "      <td>MISSOURI</td>\n",
       "      <td>232</td>\n",
       "    </tr>\n",
       "    <tr>\n",
       "      <th>32</th>\n",
       "      <td>NORTH CAROLINA</td>\n",
       "      <td>228</td>\n",
       "    </tr>\n",
       "    <tr>\n",
       "      <th>45</th>\n",
       "      <td>VIRGINIA</td>\n",
       "      <td>212</td>\n",
       "    </tr>\n",
       "    <tr>\n",
       "      <th>37</th>\n",
       "      <td>PENNSYLVANIA</td>\n",
       "      <td>212</td>\n",
       "    </tr>\n",
       "    <tr>\n",
       "      <th>48</th>\n",
       "      <td>WISCONSIN</td>\n",
       "      <td>211</td>\n",
       "    </tr>\n",
       "    <tr>\n",
       "      <th>25</th>\n",
       "      <td>MONTANA</td>\n",
       "      <td>211</td>\n",
       "    </tr>\n",
       "    <tr>\n",
       "      <th>12</th>\n",
       "      <td>ILLINOIS</td>\n",
       "      <td>208</td>\n",
       "    </tr>\n",
       "    <tr>\n",
       "      <th>3</th>\n",
       "      <td>ARKANSAS</td>\n",
       "      <td>202</td>\n",
       "    </tr>\n",
       "    <tr>\n",
       "      <th>14</th>\n",
       "      <td>IOWA</td>\n",
       "      <td>202</td>\n",
       "    </tr>\n",
       "    <tr>\n",
       "      <th>9</th>\n",
       "      <td>GEORGIA</td>\n",
       "      <td>199</td>\n",
       "    </tr>\n",
       "    <tr>\n",
       "      <th>17</th>\n",
       "      <td>LOUISIANA</td>\n",
       "      <td>195</td>\n",
       "    </tr>\n",
       "    <tr>\n",
       "      <th>41</th>\n",
       "      <td>TENNESSEE</td>\n",
       "      <td>190</td>\n",
       "    </tr>\n",
       "    <tr>\n",
       "      <th>0</th>\n",
       "      <td>ALABAMA</td>\n",
       "      <td>189</td>\n",
       "    </tr>\n",
       "    <tr>\n",
       "      <th>2</th>\n",
       "      <td>ARIZONA</td>\n",
       "      <td>185</td>\n",
       "    </tr>\n",
       "    <tr>\n",
       "      <th>31</th>\n",
       "      <td>NEW YORK</td>\n",
       "      <td>185</td>\n",
       "    </tr>\n",
       "    <tr>\n",
       "      <th>30</th>\n",
       "      <td>NEW MEXICO</td>\n",
       "      <td>181</td>\n",
       "    </tr>\n",
       "    <tr>\n",
       "      <th>23</th>\n",
       "      <td>MISSISSIPPI</td>\n",
       "      <td>165</td>\n",
       "    </tr>\n",
       "    <tr>\n",
       "      <th>27</th>\n",
       "      <td>NEVADA</td>\n",
       "      <td>164</td>\n",
       "    </tr>\n",
       "    <tr>\n",
       "      <th>16</th>\n",
       "      <td>KENTUCKY</td>\n",
       "      <td>151</td>\n",
       "    </tr>\n",
       "    <tr>\n",
       "      <th>39</th>\n",
       "      <td>SOUTH CAROLINA</td>\n",
       "      <td>148</td>\n",
       "    </tr>\n",
       "    <tr>\n",
       "      <th>13</th>\n",
       "      <td>INDIANA</td>\n",
       "      <td>147</td>\n",
       "    </tr>\n",
       "    <tr>\n",
       "      <th>36</th>\n",
       "      <td>OREGON</td>\n",
       "      <td>145</td>\n",
       "    </tr>\n",
       "    <tr>\n",
       "      <th>1</th>\n",
       "      <td>ALASKA</td>\n",
       "      <td>142</td>\n",
       "    </tr>\n",
       "    <tr>\n",
       "      <th>11</th>\n",
       "      <td>IDAHO</td>\n",
       "      <td>137</td>\n",
       "    </tr>\n",
       "    <tr>\n",
       "      <th>47</th>\n",
       "      <td>WEST VIRGINIA</td>\n",
       "      <td>131</td>\n",
       "    </tr>\n",
       "    <tr>\n",
       "      <th>34</th>\n",
       "      <td>OHIO</td>\n",
       "      <td>126</td>\n",
       "    </tr>\n",
       "    <tr>\n",
       "      <th>19</th>\n",
       "      <td>MARYLAND</td>\n",
       "      <td>126</td>\n",
       "    </tr>\n",
       "    <tr>\n",
       "      <th>21</th>\n",
       "      <td>MICHIGAN</td>\n",
       "      <td>115</td>\n",
       "    </tr>\n",
       "    <tr>\n",
       "      <th>43</th>\n",
       "      <td>UTAH</td>\n",
       "      <td>114</td>\n",
       "    </tr>\n",
       "    <tr>\n",
       "      <th>46</th>\n",
       "      <td>WASHINGTON</td>\n",
       "      <td>107</td>\n",
       "    </tr>\n",
       "    <tr>\n",
       "      <th>29</th>\n",
       "      <td>NEW JERSEY</td>\n",
       "      <td>103</td>\n",
       "    </tr>\n",
       "    <tr>\n",
       "      <th>33</th>\n",
       "      <td>NORTH DAKOTA</td>\n",
       "      <td>92</td>\n",
       "    </tr>\n",
       "    <tr>\n",
       "      <th>10</th>\n",
       "      <td>HAWAII</td>\n",
       "      <td>77</td>\n",
       "    </tr>\n",
       "    <tr>\n",
       "      <th>18</th>\n",
       "      <td>MAINE</td>\n",
       "      <td>73</td>\n",
       "    </tr>\n",
       "    <tr>\n",
       "      <th>20</th>\n",
       "      <td>MASSACHUSETTS</td>\n",
       "      <td>59</td>\n",
       "    </tr>\n",
       "    <tr>\n",
       "      <th>6</th>\n",
       "      <td>CONNECTICUT</td>\n",
       "      <td>51</td>\n",
       "    </tr>\n",
       "    <tr>\n",
       "      <th>44</th>\n",
       "      <td>VERMONT</td>\n",
       "      <td>49</td>\n",
       "    </tr>\n",
       "    <tr>\n",
       "      <th>7</th>\n",
       "      <td>DELAWARE</td>\n",
       "      <td>40</td>\n",
       "    </tr>\n",
       "    <tr>\n",
       "      <th>28</th>\n",
       "      <td>NEW HAMPSHIRE</td>\n",
       "      <td>39</td>\n",
       "    </tr>\n",
       "    <tr>\n",
       "      <th>38</th>\n",
       "      <td>RHODE ISLAND</td>\n",
       "      <td>17</td>\n",
       "    </tr>\n",
       "  </tbody>\n",
       "</table>\n",
       "</div>"
      ],
      "text/plain": [
       "             STATE  counts\n",
       "42           TEXAS     878\n",
       "4       CALIFORNIA     360\n",
       "40    SOUTH DAKOTA     349\n",
       "5         COLORADO     346\n",
       "15          KANSAS     314\n",
       "8          FLORIDA     307\n",
       "26        NEBRASKA     302\n",
       "35        OKLAHOMA     285\n",
       "22       MINNESOTA     254\n",
       "49         WYOMING     235\n",
       "24        MISSOURI     232\n",
       "32  NORTH CAROLINA     228\n",
       "45        VIRGINIA     212\n",
       "37    PENNSYLVANIA     212\n",
       "48       WISCONSIN     211\n",
       "25         MONTANA     211\n",
       "12        ILLINOIS     208\n",
       "3         ARKANSAS     202\n",
       "14            IOWA     202\n",
       "9          GEORGIA     199\n",
       "17       LOUISIANA     195\n",
       "41       TENNESSEE     190\n",
       "0          ALABAMA     189\n",
       "2          ARIZONA     185\n",
       "31        NEW YORK     185\n",
       "30      NEW MEXICO     181\n",
       "23     MISSISSIPPI     165\n",
       "27          NEVADA     164\n",
       "16        KENTUCKY     151\n",
       "39  SOUTH CAROLINA     148\n",
       "13         INDIANA     147\n",
       "36          OREGON     145\n",
       "1           ALASKA     142\n",
       "11           IDAHO     137\n",
       "47   WEST VIRGINIA     131\n",
       "34            OHIO     126\n",
       "19        MARYLAND     126\n",
       "21        MICHIGAN     115\n",
       "43            UTAH     114\n",
       "46      WASHINGTON     107\n",
       "29      NEW JERSEY     103\n",
       "33    NORTH DAKOTA      92\n",
       "10          HAWAII      77\n",
       "18           MAINE      73\n",
       "20   MASSACHUSETTS      59\n",
       "6      CONNECTICUT      51\n",
       "44         VERMONT      49\n",
       "7         DELAWARE      40\n",
       "28   NEW HAMPSHIRE      39\n",
       "38    RHODE ISLAND      17"
      ]
     },
     "execution_count": 44,
     "metadata": {},
     "output_type": "execute_result"
    }
   ],
   "source": [
    "events_most = events.groupby('STATE').size().reset_index(name='counts')\n",
    "events_most = events_most.sort_values('counts', ascending = False)\n",
    "events_most"
   ]
  },
  {
   "cell_type": "code",
   "execution_count": 45,
   "metadata": {},
   "outputs": [
    {
     "data": {
      "text/plain": [
       "<Figure size 1000x600 with 0 Axes>"
      ]
     },
     "metadata": {},
     "output_type": "display_data"
    },
    {
     "data": {
      "image/png": "[encoded data removed]",
      "text/plain": [
       "<Figure size 640x480 with 1 Axes>"
      ]
     },
     "metadata": {},
     "output_type": "display_data"
    }
   ],
   "source": [
    "combined_df = pd.concat([events_most.head(3), events_most.tail(3)])\n",
    "combined_df['STATE'] = combined_df['STATE'].apply(lambda x: x[:7])\n",
    "plt.figure(figsize=(10, 6))\n",
    "combined_df.reset_index(drop=True, inplace=True)\n",
    "combined_df.plot(kind='bar', x='STATE', y='counts', legend=False)\n",
    "plt.xlabel('State')\n",
    "plt.ylabel('Event Count')\n",
    "plt.title('Bar Chart of Top 3 and Bottom 3 States By # of Events')\n",
    "plt.xticks(rotation=0)\n",
    "plt.show()"
   ]
  },
  {
   "cell_type": "code",
   "execution_count": 46,
   "metadata": {},
   "outputs": [
    {
     "data": {
      "text/html": [
       "<div>\n",
       "<style scoped>\n",
       "    .dataframe tbody tr th:only-of-type {\n",
       "        vertical-align: middle;\n",
       "    }\n",
       "\n",
       "    .dataframe tbody tr th {\n",
       "        vertical-align: top;\n",
       "    }\n",
       "\n",
       "    .dataframe thead th {\n",
       "        text-align: right;\n",
       "    }\n",
       "</style>\n",
       "<table border=\"1\" class=\"dataframe\">\n",
       "  <thead>\n",
       "    <tr style=\"text-align: right;\">\n",
       "      <th></th>\n",
       "      <th>STATE</th>\n",
       "      <th>EVENT_TYPE</th>\n",
       "      <th>counts</th>\n",
       "    </tr>\n",
       "  </thead>\n",
       "  <tbody>\n",
       "    <tr>\n",
       "      <th>20</th>\n",
       "      <td>ALABAMA</td>\n",
       "      <td>Thunderstorm Wind</td>\n",
       "      <td>393</td>\n",
       "    </tr>\n",
       "    <tr>\n",
       "      <th>39</th>\n",
       "      <td>ALASKA</td>\n",
       "      <td>High Wind</td>\n",
       "      <td>149</td>\n",
       "    </tr>\n",
       "    <tr>\n",
       "      <th>57</th>\n",
       "      <td>ARIZONA</td>\n",
       "      <td>Flash Flood</td>\n",
       "      <td>308</td>\n",
       "    </tr>\n",
       "    <tr>\n",
       "      <th>89</th>\n",
       "      <td>ARKANSAS</td>\n",
       "      <td>Thunderstorm Wind</td>\n",
       "      <td>295</td>\n",
       "    </tr>\n",
       "    <tr>\n",
       "      <th>118</th>\n",
       "      <td>CALIFORNIA</td>\n",
       "      <td>High Wind</td>\n",
       "      <td>477</td>\n",
       "    </tr>\n",
       "    <tr>\n",
       "      <th>147</th>\n",
       "      <td>COLORADO</td>\n",
       "      <td>Hail</td>\n",
       "      <td>378</td>\n",
       "    </tr>\n",
       "    <tr>\n",
       "      <th>177</th>\n",
       "      <td>CONNECTICUT</td>\n",
       "      <td>Thunderstorm Wind</td>\n",
       "      <td>114</td>\n",
       "    </tr>\n",
       "    <tr>\n",
       "      <th>196</th>\n",
       "      <td>DELAWARE</td>\n",
       "      <td>Thunderstorm Wind</td>\n",
       "      <td>70</td>\n",
       "    </tr>\n",
       "    <tr>\n",
       "      <th>221</th>\n",
       "      <td>FLORIDA</td>\n",
       "      <td>Thunderstorm Wind</td>\n",
       "      <td>514</td>\n",
       "    </tr>\n",
       "    <tr>\n",
       "      <th>248</th>\n",
       "      <td>GEORGIA</td>\n",
       "      <td>Thunderstorm Wind</td>\n",
       "      <td>537</td>\n",
       "    </tr>\n",
       "    <tr>\n",
       "      <th>264</th>\n",
       "      <td>HAWAII</td>\n",
       "      <td>High Surf</td>\n",
       "      <td>178</td>\n",
       "    </tr>\n",
       "    <tr>\n",
       "      <th>291</th>\n",
       "      <td>IDAHO</td>\n",
       "      <td>Heavy Snow</td>\n",
       "      <td>154</td>\n",
       "    </tr>\n",
       "    <tr>\n",
       "      <th>326</th>\n",
       "      <td>ILLINOIS</td>\n",
       "      <td>Thunderstorm Wind</td>\n",
       "      <td>361</td>\n",
       "    </tr>\n",
       "    <tr>\n",
       "      <th>353</th>\n",
       "      <td>INDIANA</td>\n",
       "      <td>Thunderstorm Wind</td>\n",
       "      <td>349</td>\n",
       "    </tr>\n",
       "    <tr>\n",
       "      <th>369</th>\n",
       "      <td>IOWA</td>\n",
       "      <td>Hail</td>\n",
       "      <td>235</td>\n",
       "    </tr>\n",
       "    <tr>\n",
       "      <th>392</th>\n",
       "      <td>KANSAS</td>\n",
       "      <td>Hail</td>\n",
       "      <td>534</td>\n",
       "    </tr>\n",
       "    <tr>\n",
       "      <th>425</th>\n",
       "      <td>KENTUCKY</td>\n",
       "      <td>Thunderstorm Wind</td>\n",
       "      <td>346</td>\n",
       "    </tr>\n",
       "    <tr>\n",
       "      <th>450</th>\n",
       "      <td>LOUISIANA</td>\n",
       "      <td>Thunderstorm Wind</td>\n",
       "      <td>248</td>\n",
       "    </tr>\n",
       "    <tr>\n",
       "      <th>475</th>\n",
       "      <td>MAINE</td>\n",
       "      <td>Thunderstorm Wind</td>\n",
       "      <td>84</td>\n",
       "    </tr>\n",
       "    <tr>\n",
       "      <th>499</th>\n",
       "      <td>MARYLAND</td>\n",
       "      <td>Thunderstorm Wind</td>\n",
       "      <td>317</td>\n",
       "    </tr>\n",
       "    <tr>\n",
       "      <th>520</th>\n",
       "      <td>MASSACHUSETTS</td>\n",
       "      <td>Thunderstorm Wind</td>\n",
       "      <td>102</td>\n",
       "    </tr>\n",
       "    <tr>\n",
       "      <th>546</th>\n",
       "      <td>MICHIGAN</td>\n",
       "      <td>Thunderstorm Wind</td>\n",
       "      <td>275</td>\n",
       "    </tr>\n",
       "    <tr>\n",
       "      <th>561</th>\n",
       "      <td>MINNESOTA</td>\n",
       "      <td>Hail</td>\n",
       "      <td>325</td>\n",
       "    </tr>\n",
       "    <tr>\n",
       "      <th>597</th>\n",
       "      <td>MISSISSIPPI</td>\n",
       "      <td>Thunderstorm Wind</td>\n",
       "      <td>302</td>\n",
       "    </tr>\n",
       "    <tr>\n",
       "      <th>623</th>\n",
       "      <td>MISSOURI</td>\n",
       "      <td>Thunderstorm Wind</td>\n",
       "      <td>331</td>\n",
       "    </tr>\n",
       "    <tr>\n",
       "      <th>645</th>\n",
       "      <td>MONTANA</td>\n",
       "      <td>High Wind</td>\n",
       "      <td>344</td>\n",
       "    </tr>\n",
       "    <tr>\n",
       "      <th>664</th>\n",
       "      <td>NEBRASKA</td>\n",
       "      <td>Hail</td>\n",
       "      <td>500</td>\n",
       "    </tr>\n",
       "    <tr>\n",
       "      <th>694</th>\n",
       "      <td>NEVADA</td>\n",
       "      <td>High Wind</td>\n",
       "      <td>221</td>\n",
       "    </tr>\n",
       "    <tr>\n",
       "      <th>719</th>\n",
       "      <td>NEW HAMPSHIRE</td>\n",
       "      <td>Thunderstorm Wind</td>\n",
       "      <td>55</td>\n",
       "    </tr>\n",
       "    <tr>\n",
       "      <th>741</th>\n",
       "      <td>NEW JERSEY</td>\n",
       "      <td>Thunderstorm Wind</td>\n",
       "      <td>172</td>\n",
       "    </tr>\n",
       "    <tr>\n",
       "      <th>761</th>\n",
       "      <td>NEW MEXICO</td>\n",
       "      <td>High Wind</td>\n",
       "      <td>286</td>\n",
       "    </tr>\n",
       "    <tr>\n",
       "      <th>794</th>\n",
       "      <td>NEW YORK</td>\n",
       "      <td>Thunderstorm Wind</td>\n",
       "      <td>426</td>\n",
       "    </tr>\n",
       "    <tr>\n",
       "      <th>821</th>\n",
       "      <td>NORTH CAROLINA</td>\n",
       "      <td>Thunderstorm Wind</td>\n",
       "      <td>630</td>\n",
       "    </tr>\n",
       "    <tr>\n",
       "      <th>840</th>\n",
       "      <td>NORTH DAKOTA</td>\n",
       "      <td>Hail</td>\n",
       "      <td>220</td>\n",
       "    </tr>\n",
       "    <tr>\n",
       "      <th>867</th>\n",
       "      <td>OHIO</td>\n",
       "      <td>Thunderstorm Wind</td>\n",
       "      <td>404</td>\n",
       "    </tr>\n",
       "    <tr>\n",
       "      <th>887</th>\n",
       "      <td>OKLAHOMA</td>\n",
       "      <td>Thunderstorm Wind</td>\n",
       "      <td>301</td>\n",
       "    </tr>\n",
       "    <tr>\n",
       "      <th>920</th>\n",
       "      <td>OREGON</td>\n",
       "      <td>Wildfire</td>\n",
       "      <td>160</td>\n",
       "    </tr>\n",
       "    <tr>\n",
       "      <th>944</th>\n",
       "      <td>PENNSYLVANIA</td>\n",
       "      <td>Thunderstorm Wind</td>\n",
       "      <td>497</td>\n",
       "    </tr>\n",
       "    <tr>\n",
       "      <th>959</th>\n",
       "      <td>RHODE ISLAND</td>\n",
       "      <td>Strong Wind</td>\n",
       "      <td>26</td>\n",
       "    </tr>\n",
       "    <tr>\n",
       "      <th>983</th>\n",
       "      <td>SOUTH CAROLINA</td>\n",
       "      <td>Thunderstorm Wind</td>\n",
       "      <td>436</td>\n",
       "    </tr>\n",
       "    <tr>\n",
       "      <th>1003</th>\n",
       "      <td>SOUTH DAKOTA</td>\n",
       "      <td>Hail</td>\n",
       "      <td>700</td>\n",
       "    </tr>\n",
       "    <tr>\n",
       "      <th>1034</th>\n",
       "      <td>TENNESSEE</td>\n",
       "      <td>Thunderstorm Wind</td>\n",
       "      <td>396</td>\n",
       "    </tr>\n",
       "    <tr>\n",
       "      <th>1065</th>\n",
       "      <td>TEXAS</td>\n",
       "      <td>Thunderstorm Wind</td>\n",
       "      <td>802</td>\n",
       "    </tr>\n",
       "    <tr>\n",
       "      <th>1085</th>\n",
       "      <td>UTAH</td>\n",
       "      <td>High Wind</td>\n",
       "      <td>86</td>\n",
       "    </tr>\n",
       "    <tr>\n",
       "      <th>1110</th>\n",
       "      <td>VERMONT</td>\n",
       "      <td>Thunderstorm Wind</td>\n",
       "      <td>76</td>\n",
       "    </tr>\n",
       "    <tr>\n",
       "      <th>1135</th>\n",
       "      <td>VIRGINIA</td>\n",
       "      <td>Thunderstorm Wind</td>\n",
       "      <td>599</td>\n",
       "    </tr>\n",
       "    <tr>\n",
       "      <th>1161</th>\n",
       "      <td>WASHINGTON</td>\n",
       "      <td>Heavy Snow</td>\n",
       "      <td>210</td>\n",
       "    </tr>\n",
       "    <tr>\n",
       "      <th>1193</th>\n",
       "      <td>WEST VIRGINIA</td>\n",
       "      <td>Thunderstorm Wind</td>\n",
       "      <td>266</td>\n",
       "    </tr>\n",
       "    <tr>\n",
       "      <th>1208</th>\n",
       "      <td>WISCONSIN</td>\n",
       "      <td>Hail</td>\n",
       "      <td>234</td>\n",
       "    </tr>\n",
       "    <tr>\n",
       "      <th>1240</th>\n",
       "      <td>WYOMING</td>\n",
       "      <td>High Wind</td>\n",
       "      <td>460</td>\n",
       "    </tr>\n",
       "  </tbody>\n",
       "</table>\n",
       "</div>"
      ],
      "text/plain": [
       "               STATE         EVENT_TYPE  counts\n",
       "20           ALABAMA  Thunderstorm Wind     393\n",
       "39            ALASKA          High Wind     149\n",
       "57           ARIZONA        Flash Flood     308\n",
       "89          ARKANSAS  Thunderstorm Wind     295\n",
       "118       CALIFORNIA          High Wind     477\n",
       "147         COLORADO               Hail     378\n",
       "177      CONNECTICUT  Thunderstorm Wind     114\n",
       "196         DELAWARE  Thunderstorm Wind      70\n",
       "221          FLORIDA  Thunderstorm Wind     514\n",
       "248          GEORGIA  Thunderstorm Wind     537\n",
       "264           HAWAII          High Surf     178\n",
       "291            IDAHO         Heavy Snow     154\n",
       "326         ILLINOIS  Thunderstorm Wind     361\n",
       "353          INDIANA  Thunderstorm Wind     349\n",
       "369             IOWA               Hail     235\n",
       "392           KANSAS               Hail     534\n",
       "425         KENTUCKY  Thunderstorm Wind     346\n",
       "450        LOUISIANA  Thunderstorm Wind     248\n",
       "475            MAINE  Thunderstorm Wind      84\n",
       "499         MARYLAND  Thunderstorm Wind     317\n",
       "520    MASSACHUSETTS  Thunderstorm Wind     102\n",
       "546         MICHIGAN  Thunderstorm Wind     275\n",
       "561        MINNESOTA               Hail     325\n",
       "597      MISSISSIPPI  Thunderstorm Wind     302\n",
       "623         MISSOURI  Thunderstorm Wind     331\n",
       "645          MONTANA          High Wind     344\n",
       "664         NEBRASKA               Hail     500\n",
       "694           NEVADA          High Wind     221\n",
       "719    NEW HAMPSHIRE  Thunderstorm Wind      55\n",
       "741       NEW JERSEY  Thunderstorm Wind     172\n",
       "761       NEW MEXICO          High Wind     286\n",
       "794         NEW YORK  Thunderstorm Wind     426\n",
       "821   NORTH CAROLINA  Thunderstorm Wind     630\n",
       "840     NORTH DAKOTA               Hail     220\n",
       "867             OHIO  Thunderstorm Wind     404\n",
       "887         OKLAHOMA  Thunderstorm Wind     301\n",
       "920           OREGON           Wildfire     160\n",
       "944     PENNSYLVANIA  Thunderstorm Wind     497\n",
       "959     RHODE ISLAND        Strong Wind      26\n",
       "983   SOUTH CAROLINA  Thunderstorm Wind     436\n",
       "1003    SOUTH DAKOTA               Hail     700\n",
       "1034       TENNESSEE  Thunderstorm Wind     396\n",
       "1065           TEXAS  Thunderstorm Wind     802\n",
       "1085            UTAH          High Wind      86\n",
       "1110         VERMONT  Thunderstorm Wind      76\n",
       "1135        VIRGINIA  Thunderstorm Wind     599\n",
       "1161      WASHINGTON         Heavy Snow     210\n",
       "1193   WEST VIRGINIA  Thunderstorm Wind     266\n",
       "1208       WISCONSIN               Hail     234\n",
       "1240         WYOMING          High Wind     460"
      ]
     },
     "execution_count": 46,
     "metadata": {},
     "output_type": "execute_result"
    }
   ],
   "source": [
    "#Now just the most common weather event for each state\n",
    "most_common_events = event_counts.loc[event_counts.groupby('STATE')['counts'].idxmax()]\n",
    "most_common_events"
   ]
  },
  {
   "cell_type": "markdown",
   "metadata": {},
   "source": [
    "### Change in events:\n",
    "Let's also look at how the number of weather events has changed over time in each state. We'll look at the averages for the first 2 years (2018/2019) vs last 2 years (2022/2023) of our data. While the scope may be small, it gives us some sort of idea of how weather events have been changing by state the past few years."
   ]
  },
  {
   "cell_type": "code",
   "execution_count": 39,
   "metadata": {
    "scrolled": true
   },
   "outputs": [
    {
     "data": {
      "text/html": [
       "<div>\n",
       "<style scoped>\n",
       "    .dataframe tbody tr th:only-of-type {\n",
       "        vertical-align: middle;\n",
       "    }\n",
       "\n",
       "    .dataframe tbody tr th {\n",
       "        vertical-align: top;\n",
       "    }\n",
       "\n",
       "    .dataframe thead th {\n",
       "        text-align: right;\n",
       "    }\n",
       "</style>\n",
       "<table border=\"1\" class=\"dataframe\">\n",
       "  <thead>\n",
       "    <tr style=\"text-align: right;\">\n",
       "      <th></th>\n",
       "      <th>STATE</th>\n",
       "      <th>COUNT</th>\n",
       "    </tr>\n",
       "  </thead>\n",
       "  <tbody>\n",
       "    <tr>\n",
       "      <th>0</th>\n",
       "      <td>ALABAMA</td>\n",
       "      <td>153.0</td>\n",
       "    </tr>\n",
       "    <tr>\n",
       "      <th>1</th>\n",
       "      <td>ALASKA</td>\n",
       "      <td>72.0</td>\n",
       "    </tr>\n",
       "    <tr>\n",
       "      <th>2</th>\n",
       "      <td>ARIZONA</td>\n",
       "      <td>245.0</td>\n",
       "    </tr>\n",
       "    <tr>\n",
       "      <th>3</th>\n",
       "      <td>ARKANSAS</td>\n",
       "      <td>188.5</td>\n",
       "    </tr>\n",
       "    <tr>\n",
       "      <th>4</th>\n",
       "      <td>CALIFORNIA</td>\n",
       "      <td>376.5</td>\n",
       "    </tr>\n",
       "    <tr>\n",
       "      <th>5</th>\n",
       "      <td>COLORADO</td>\n",
       "      <td>358.5</td>\n",
       "    </tr>\n",
       "    <tr>\n",
       "      <th>6</th>\n",
       "      <td>CONNECTICUT</td>\n",
       "      <td>82.5</td>\n",
       "    </tr>\n",
       "    <tr>\n",
       "      <th>7</th>\n",
       "      <td>DELAWARE</td>\n",
       "      <td>28.0</td>\n",
       "    </tr>\n",
       "    <tr>\n",
       "      <th>8</th>\n",
       "      <td>FLORIDA</td>\n",
       "      <td>260.0</td>\n",
       "    </tr>\n",
       "    <tr>\n",
       "      <th>9</th>\n",
       "      <td>GEORGIA</td>\n",
       "      <td>175.0</td>\n",
       "    </tr>\n",
       "    <tr>\n",
       "      <th>10</th>\n",
       "      <td>HAWAII</td>\n",
       "      <td>115.0</td>\n",
       "    </tr>\n",
       "    <tr>\n",
       "      <th>11</th>\n",
       "      <td>IDAHO</td>\n",
       "      <td>128.0</td>\n",
       "    </tr>\n",
       "    <tr>\n",
       "      <th>12</th>\n",
       "      <td>ILLINOIS</td>\n",
       "      <td>280.0</td>\n",
       "    </tr>\n",
       "    <tr>\n",
       "      <th>13</th>\n",
       "      <td>INDIANA</td>\n",
       "      <td>208.0</td>\n",
       "    </tr>\n",
       "    <tr>\n",
       "      <th>14</th>\n",
       "      <td>IOWA</td>\n",
       "      <td>288.5</td>\n",
       "    </tr>\n",
       "    <tr>\n",
       "      <th>15</th>\n",
       "      <td>KANSAS</td>\n",
       "      <td>299.0</td>\n",
       "    </tr>\n",
       "    <tr>\n",
       "      <th>16</th>\n",
       "      <td>KENTUCKY</td>\n",
       "      <td>224.5</td>\n",
       "    </tr>\n",
       "    <tr>\n",
       "      <th>17</th>\n",
       "      <td>LOUISIANA</td>\n",
       "      <td>132.0</td>\n",
       "    </tr>\n",
       "    <tr>\n",
       "      <th>18</th>\n",
       "      <td>MAINE</td>\n",
       "      <td>66.0</td>\n",
       "    </tr>\n",
       "    <tr>\n",
       "      <th>19</th>\n",
       "      <td>MARYLAND</td>\n",
       "      <td>177.0</td>\n",
       "    </tr>\n",
       "    <tr>\n",
       "      <th>20</th>\n",
       "      <td>MASSACHUSETTS</td>\n",
       "      <td>84.0</td>\n",
       "    </tr>\n",
       "    <tr>\n",
       "      <th>21</th>\n",
       "      <td>MICHIGAN</td>\n",
       "      <td>168.0</td>\n",
       "    </tr>\n",
       "    <tr>\n",
       "      <th>22</th>\n",
       "      <td>MINNESOTA</td>\n",
       "      <td>270.5</td>\n",
       "    </tr>\n",
       "    <tr>\n",
       "      <th>23</th>\n",
       "      <td>MISSISSIPPI</td>\n",
       "      <td>123.5</td>\n",
       "    </tr>\n",
       "    <tr>\n",
       "      <th>24</th>\n",
       "      <td>MISSOURI</td>\n",
       "      <td>241.0</td>\n",
       "    </tr>\n",
       "    <tr>\n",
       "      <th>25</th>\n",
       "      <td>MONTANA</td>\n",
       "      <td>241.5</td>\n",
       "    </tr>\n",
       "    <tr>\n",
       "      <th>26</th>\n",
       "      <td>NEBRASKA</td>\n",
       "      <td>251.0</td>\n",
       "    </tr>\n",
       "    <tr>\n",
       "      <th>27</th>\n",
       "      <td>NEVADA</td>\n",
       "      <td>108.0</td>\n",
       "    </tr>\n",
       "    <tr>\n",
       "      <th>28</th>\n",
       "      <td>NEW HAMPSHIRE</td>\n",
       "      <td>41.0</td>\n",
       "    </tr>\n",
       "    <tr>\n",
       "      <th>29</th>\n",
       "      <td>NEW JERSEY</td>\n",
       "      <td>102.0</td>\n",
       "    </tr>\n",
       "    <tr>\n",
       "      <th>30</th>\n",
       "      <td>NEW MEXICO</td>\n",
       "      <td>172.0</td>\n",
       "    </tr>\n",
       "    <tr>\n",
       "      <th>31</th>\n",
       "      <td>NEW YORK</td>\n",
       "      <td>239.5</td>\n",
       "    </tr>\n",
       "    <tr>\n",
       "      <th>32</th>\n",
       "      <td>NORTH CAROLINA</td>\n",
       "      <td>274.5</td>\n",
       "    </tr>\n",
       "    <tr>\n",
       "      <th>33</th>\n",
       "      <td>NORTH DAKOTA</td>\n",
       "      <td>109.5</td>\n",
       "    </tr>\n",
       "    <tr>\n",
       "      <th>34</th>\n",
       "      <td>OHIO</td>\n",
       "      <td>219.5</td>\n",
       "    </tr>\n",
       "    <tr>\n",
       "      <th>35</th>\n",
       "      <td>OKLAHOMA</td>\n",
       "      <td>205.5</td>\n",
       "    </tr>\n",
       "    <tr>\n",
       "      <th>36</th>\n",
       "      <td>OREGON</td>\n",
       "      <td>133.5</td>\n",
       "    </tr>\n",
       "    <tr>\n",
       "      <th>37</th>\n",
       "      <td>PENNSYLVANIA</td>\n",
       "      <td>232.5</td>\n",
       "    </tr>\n",
       "    <tr>\n",
       "      <th>38</th>\n",
       "      <td>RHODE ISLAND</td>\n",
       "      <td>23.0</td>\n",
       "    </tr>\n",
       "    <tr>\n",
       "      <th>39</th>\n",
       "      <td>SOUTH CAROLINA</td>\n",
       "      <td>150.5</td>\n",
       "    </tr>\n",
       "    <tr>\n",
       "      <th>40</th>\n",
       "      <td>SOUTH DAKOTA</td>\n",
       "      <td>402.0</td>\n",
       "    </tr>\n",
       "    <tr>\n",
       "      <th>41</th>\n",
       "      <td>TENNESSEE</td>\n",
       "      <td>183.5</td>\n",
       "    </tr>\n",
       "    <tr>\n",
       "      <th>42</th>\n",
       "      <td>TEXAS</td>\n",
       "      <td>568.5</td>\n",
       "    </tr>\n",
       "    <tr>\n",
       "      <th>43</th>\n",
       "      <td>UTAH</td>\n",
       "      <td>95.5</td>\n",
       "    </tr>\n",
       "    <tr>\n",
       "      <th>44</th>\n",
       "      <td>VERMONT</td>\n",
       "      <td>54.0</td>\n",
       "    </tr>\n",
       "    <tr>\n",
       "      <th>45</th>\n",
       "      <td>VIRGINIA</td>\n",
       "      <td>302.5</td>\n",
       "    </tr>\n",
       "    <tr>\n",
       "      <th>46</th>\n",
       "      <td>WASHINGTON</td>\n",
       "      <td>110.5</td>\n",
       "    </tr>\n",
       "    <tr>\n",
       "      <th>47</th>\n",
       "      <td>WEST VIRGINIA</td>\n",
       "      <td>182.0</td>\n",
       "    </tr>\n",
       "    <tr>\n",
       "      <th>48</th>\n",
       "      <td>WISCONSIN</td>\n",
       "      <td>219.5</td>\n",
       "    </tr>\n",
       "    <tr>\n",
       "      <th>49</th>\n",
       "      <td>WYOMING</td>\n",
       "      <td>281.0</td>\n",
       "    </tr>\n",
       "  </tbody>\n",
       "</table>\n",
       "</div>"
      ],
      "text/plain": [
       "             STATE  COUNT\n",
       "0          ALABAMA  153.0\n",
       "1           ALASKA   72.0\n",
       "2          ARIZONA  245.0\n",
       "3         ARKANSAS  188.5\n",
       "4       CALIFORNIA  376.5\n",
       "5         COLORADO  358.5\n",
       "6      CONNECTICUT   82.5\n",
       "7         DELAWARE   28.0\n",
       "8          FLORIDA  260.0\n",
       "9          GEORGIA  175.0\n",
       "10          HAWAII  115.0\n",
       "11           IDAHO  128.0\n",
       "12        ILLINOIS  280.0\n",
       "13         INDIANA  208.0\n",
       "14            IOWA  288.5\n",
       "15          KANSAS  299.0\n",
       "16        KENTUCKY  224.5\n",
       "17       LOUISIANA  132.0\n",
       "18           MAINE   66.0\n",
       "19        MARYLAND  177.0\n",
       "20   MASSACHUSETTS   84.0\n",
       "21        MICHIGAN  168.0\n",
       "22       MINNESOTA  270.5\n",
       "23     MISSISSIPPI  123.5\n",
       "24        MISSOURI  241.0\n",
       "25         MONTANA  241.5\n",
       "26        NEBRASKA  251.0\n",
       "27          NEVADA  108.0\n",
       "28   NEW HAMPSHIRE   41.0\n",
       "29      NEW JERSEY  102.0\n",
       "30      NEW MEXICO  172.0\n",
       "31        NEW YORK  239.5\n",
       "32  NORTH CAROLINA  274.5\n",
       "33    NORTH DAKOTA  109.5\n",
       "34            OHIO  219.5\n",
       "35        OKLAHOMA  205.5\n",
       "36          OREGON  133.5\n",
       "37    PENNSYLVANIA  232.5\n",
       "38    RHODE ISLAND   23.0\n",
       "39  SOUTH CAROLINA  150.5\n",
       "40    SOUTH DAKOTA  402.0\n",
       "41       TENNESSEE  183.5\n",
       "42           TEXAS  568.5\n",
       "43            UTAH   95.5\n",
       "44         VERMONT   54.0\n",
       "45        VIRGINIA  302.5\n",
       "46      WASHINGTON  110.5\n",
       "47   WEST VIRGINIA  182.0\n",
       "48       WISCONSIN  219.5\n",
       "49         WYOMING  281.0"
      ]
     },
     "execution_count": 39,
     "metadata": {},
     "output_type": "execute_result"
    }
   ],
   "source": [
    "#Averages of first 2 years\n",
    "event_years_first = event_count_df[event_count_df['YEAR'].isin([2018, 2019])]\n",
    "event_years_first = event_years_first.groupby('STATE')['COUNT'].mean().reset_index()\n",
    "event_years_first"
   ]
  },
  {
   "cell_type": "code",
   "execution_count": 40,
   "metadata": {
    "scrolled": true
   },
   "outputs": [
    {
     "data": {
      "text/html": [
       "<div>\n",
       "<style scoped>\n",
       "    .dataframe tbody tr th:only-of-type {\n",
       "        vertical-align: middle;\n",
       "    }\n",
       "\n",
       "    .dataframe tbody tr th {\n",
       "        vertical-align: top;\n",
       "    }\n",
       "\n",
       "    .dataframe thead th {\n",
       "        text-align: right;\n",
       "    }\n",
       "</style>\n",
       "<table border=\"1\" class=\"dataframe\">\n",
       "  <thead>\n",
       "    <tr style=\"text-align: right;\">\n",
       "      <th></th>\n",
       "      <th>STATE</th>\n",
       "      <th>COUNT</th>\n",
       "    </tr>\n",
       "  </thead>\n",
       "  <tbody>\n",
       "    <tr>\n",
       "      <th>0</th>\n",
       "      <td>ALABAMA</td>\n",
       "      <td>176.5</td>\n",
       "    </tr>\n",
       "    <tr>\n",
       "      <th>1</th>\n",
       "      <td>ALASKA</td>\n",
       "      <td>135.0</td>\n",
       "    </tr>\n",
       "    <tr>\n",
       "      <th>2</th>\n",
       "      <td>ARIZONA</td>\n",
       "      <td>228.0</td>\n",
       "    </tr>\n",
       "    <tr>\n",
       "      <th>3</th>\n",
       "      <td>ARKANSAS</td>\n",
       "      <td>201.5</td>\n",
       "    </tr>\n",
       "    <tr>\n",
       "      <th>4</th>\n",
       "      <td>CALIFORNIA</td>\n",
       "      <td>388.0</td>\n",
       "    </tr>\n",
       "    <tr>\n",
       "      <th>5</th>\n",
       "      <td>COLORADO</td>\n",
       "      <td>351.5</td>\n",
       "    </tr>\n",
       "    <tr>\n",
       "      <th>6</th>\n",
       "      <td>CONNECTICUT</td>\n",
       "      <td>59.0</td>\n",
       "    </tr>\n",
       "    <tr>\n",
       "      <th>7</th>\n",
       "      <td>DELAWARE</td>\n",
       "      <td>37.5</td>\n",
       "    </tr>\n",
       "    <tr>\n",
       "      <th>8</th>\n",
       "      <td>FLORIDA</td>\n",
       "      <td>303.0</td>\n",
       "    </tr>\n",
       "    <tr>\n",
       "      <th>9</th>\n",
       "      <td>GEORGIA</td>\n",
       "      <td>184.0</td>\n",
       "    </tr>\n",
       "    <tr>\n",
       "      <th>10</th>\n",
       "      <td>HAWAII</td>\n",
       "      <td>85.0</td>\n",
       "    </tr>\n",
       "    <tr>\n",
       "      <th>11</th>\n",
       "      <td>IDAHO</td>\n",
       "      <td>139.5</td>\n",
       "    </tr>\n",
       "    <tr>\n",
       "      <th>12</th>\n",
       "      <td>ILLINOIS</td>\n",
       "      <td>220.0</td>\n",
       "    </tr>\n",
       "    <tr>\n",
       "      <th>13</th>\n",
       "      <td>INDIANA</td>\n",
       "      <td>169.0</td>\n",
       "    </tr>\n",
       "    <tr>\n",
       "      <th>14</th>\n",
       "      <td>IOWA</td>\n",
       "      <td>188.5</td>\n",
       "    </tr>\n",
       "    <tr>\n",
       "      <th>15</th>\n",
       "      <td>KANSAS</td>\n",
       "      <td>296.0</td>\n",
       "    </tr>\n",
       "    <tr>\n",
       "      <th>16</th>\n",
       "      <td>KENTUCKY</td>\n",
       "      <td>176.5</td>\n",
       "    </tr>\n",
       "    <tr>\n",
       "      <th>17</th>\n",
       "      <td>LOUISIANA</td>\n",
       "      <td>169.0</td>\n",
       "    </tr>\n",
       "    <tr>\n",
       "      <th>18</th>\n",
       "      <td>MAINE</td>\n",
       "      <td>77.0</td>\n",
       "    </tr>\n",
       "    <tr>\n",
       "      <th>19</th>\n",
       "      <td>MARYLAND</td>\n",
       "      <td>132.0</td>\n",
       "    </tr>\n",
       "    <tr>\n",
       "      <th>20</th>\n",
       "      <td>MASSACHUSETTS</td>\n",
       "      <td>62.5</td>\n",
       "    </tr>\n",
       "    <tr>\n",
       "      <th>21</th>\n",
       "      <td>MICHIGAN</td>\n",
       "      <td>135.5</td>\n",
       "    </tr>\n",
       "    <tr>\n",
       "      <th>22</th>\n",
       "      <td>MINNESOTA</td>\n",
       "      <td>254.0</td>\n",
       "    </tr>\n",
       "    <tr>\n",
       "      <th>23</th>\n",
       "      <td>MISSISSIPPI</td>\n",
       "      <td>145.0</td>\n",
       "    </tr>\n",
       "    <tr>\n",
       "      <th>24</th>\n",
       "      <td>MISSOURI</td>\n",
       "      <td>239.5</td>\n",
       "    </tr>\n",
       "    <tr>\n",
       "      <th>25</th>\n",
       "      <td>MONTANA</td>\n",
       "      <td>235.0</td>\n",
       "    </tr>\n",
       "    <tr>\n",
       "      <th>26</th>\n",
       "      <td>NEBRASKA</td>\n",
       "      <td>289.5</td>\n",
       "    </tr>\n",
       "    <tr>\n",
       "      <th>27</th>\n",
       "      <td>NEVADA</td>\n",
       "      <td>156.5</td>\n",
       "    </tr>\n",
       "    <tr>\n",
       "      <th>28</th>\n",
       "      <td>NEW HAMPSHIRE</td>\n",
       "      <td>40.5</td>\n",
       "    </tr>\n",
       "    <tr>\n",
       "      <th>29</th>\n",
       "      <td>NEW JERSEY</td>\n",
       "      <td>97.5</td>\n",
       "    </tr>\n",
       "    <tr>\n",
       "      <th>30</th>\n",
       "      <td>NEW MEXICO</td>\n",
       "      <td>192.5</td>\n",
       "    </tr>\n",
       "    <tr>\n",
       "      <th>31</th>\n",
       "      <td>NEW YORK</td>\n",
       "      <td>203.0</td>\n",
       "    </tr>\n",
       "    <tr>\n",
       "      <th>32</th>\n",
       "      <td>NORTH CAROLINA</td>\n",
       "      <td>237.5</td>\n",
       "    </tr>\n",
       "    <tr>\n",
       "      <th>33</th>\n",
       "      <td>NORTH DAKOTA</td>\n",
       "      <td>112.0</td>\n",
       "    </tr>\n",
       "    <tr>\n",
       "      <th>34</th>\n",
       "      <td>OHIO</td>\n",
       "      <td>147.0</td>\n",
       "    </tr>\n",
       "    <tr>\n",
       "      <th>35</th>\n",
       "      <td>OKLAHOMA</td>\n",
       "      <td>265.0</td>\n",
       "    </tr>\n",
       "    <tr>\n",
       "      <th>36</th>\n",
       "      <td>OREGON</td>\n",
       "      <td>137.0</td>\n",
       "    </tr>\n",
       "    <tr>\n",
       "      <th>37</th>\n",
       "      <td>PENNSYLVANIA</td>\n",
       "      <td>200.0</td>\n",
       "    </tr>\n",
       "    <tr>\n",
       "      <th>38</th>\n",
       "      <td>RHODE ISLAND</td>\n",
       "      <td>18.0</td>\n",
       "    </tr>\n",
       "    <tr>\n",
       "      <th>39</th>\n",
       "      <td>SOUTH CAROLINA</td>\n",
       "      <td>156.0</td>\n",
       "    </tr>\n",
       "    <tr>\n",
       "      <th>40</th>\n",
       "      <td>SOUTH DAKOTA</td>\n",
       "      <td>343.0</td>\n",
       "    </tr>\n",
       "    <tr>\n",
       "      <th>41</th>\n",
       "      <td>TENNESSEE</td>\n",
       "      <td>183.0</td>\n",
       "    </tr>\n",
       "    <tr>\n",
       "      <th>42</th>\n",
       "      <td>TEXAS</td>\n",
       "      <td>802.0</td>\n",
       "    </tr>\n",
       "    <tr>\n",
       "      <th>43</th>\n",
       "      <td>UTAH</td>\n",
       "      <td>116.0</td>\n",
       "    </tr>\n",
       "    <tr>\n",
       "      <th>44</th>\n",
       "      <td>VERMONT</td>\n",
       "      <td>53.0</td>\n",
       "    </tr>\n",
       "    <tr>\n",
       "      <th>45</th>\n",
       "      <td>VIRGINIA</td>\n",
       "      <td>231.0</td>\n",
       "    </tr>\n",
       "    <tr>\n",
       "      <th>46</th>\n",
       "      <td>WASHINGTON</td>\n",
       "      <td>124.5</td>\n",
       "    </tr>\n",
       "    <tr>\n",
       "      <th>47</th>\n",
       "      <td>WEST VIRGINIA</td>\n",
       "      <td>140.5</td>\n",
       "    </tr>\n",
       "    <tr>\n",
       "      <th>48</th>\n",
       "      <td>WISCONSIN</td>\n",
       "      <td>182.5</td>\n",
       "    </tr>\n",
       "    <tr>\n",
       "      <th>49</th>\n",
       "      <td>WYOMING</td>\n",
       "      <td>242.5</td>\n",
       "    </tr>\n",
       "  </tbody>\n",
       "</table>\n",
       "</div>"
      ],
      "text/plain": [
       "             STATE  COUNT\n",
       "0          ALABAMA  176.5\n",
       "1           ALASKA  135.0\n",
       "2          ARIZONA  228.0\n",
       "3         ARKANSAS  201.5\n",
       "4       CALIFORNIA  388.0\n",
       "5         COLORADO  351.5\n",
       "6      CONNECTICUT   59.0\n",
       "7         DELAWARE   37.5\n",
       "8          FLORIDA  303.0\n",
       "9          GEORGIA  184.0\n",
       "10          HAWAII   85.0\n",
       "11           IDAHO  139.5\n",
       "12        ILLINOIS  220.0\n",
       "13         INDIANA  169.0\n",
       "14            IOWA  188.5\n",
       "15          KANSAS  296.0\n",
       "16        KENTUCKY  176.5\n",
       "17       LOUISIANA  169.0\n",
       "18           MAINE   77.0\n",
       "19        MARYLAND  132.0\n",
       "20   MASSACHUSETTS   62.5\n",
       "21        MICHIGAN  135.5\n",
       "22       MINNESOTA  254.0\n",
       "23     MISSISSIPPI  145.0\n",
       "24        MISSOURI  239.5\n",
       "25         MONTANA  235.0\n",
       "26        NEBRASKA  289.5\n",
       "27          NEVADA  156.5\n",
       "28   NEW HAMPSHIRE   40.5\n",
       "29      NEW JERSEY   97.5\n",
       "30      NEW MEXICO  192.5\n",
       "31        NEW YORK  203.0\n",
       "32  NORTH CAROLINA  237.5\n",
       "33    NORTH DAKOTA  112.0\n",
       "34            OHIO  147.0\n",
       "35        OKLAHOMA  265.0\n",
       "36          OREGON  137.0\n",
       "37    PENNSYLVANIA  200.0\n",
       "38    RHODE ISLAND   18.0\n",
       "39  SOUTH CAROLINA  156.0\n",
       "40    SOUTH DAKOTA  343.0\n",
       "41       TENNESSEE  183.0\n",
       "42           TEXAS  802.0\n",
       "43            UTAH  116.0\n",
       "44         VERMONT   53.0\n",
       "45        VIRGINIA  231.0\n",
       "46      WASHINGTON  124.5\n",
       "47   WEST VIRGINIA  140.5\n",
       "48       WISCONSIN  182.5\n",
       "49         WYOMING  242.5"
      ]
     },
     "execution_count": 40,
     "metadata": {},
     "output_type": "execute_result"
    }
   ],
   "source": [
    "#Averages of last 2 years\n",
    "event_years_second = event_count_df[event_count_df['YEAR'].isin([2022, 2023])]\n",
    "event_years_second = event_years_second.groupby('STATE')['COUNT'].mean().reset_index()\n",
    "event_years_second"
   ]
  },
  {
   "cell_type": "code",
   "execution_count": 41,
   "metadata": {
    "scrolled": true
   },
   "outputs": [
    {
     "name": "stdout",
     "output_type": "stream",
     "text": [
      "          STATE  COUNT_df1  COUNT_df2  count_difference\n",
      "42        TEXAS      568.5      802.0             233.5\n",
      "1        ALASKA       72.0      135.0              63.0\n",
      "35     OKLAHOMA      205.5      265.0              59.5\n",
      "27       NEVADA      108.0      156.5              48.5\n",
      "8       FLORIDA      260.0      303.0              43.0\n",
      "26     NEBRASKA      251.0      289.5              38.5\n",
      "17    LOUISIANA      132.0      169.0              37.0\n",
      "0       ALABAMA      153.0      176.5              23.5\n",
      "23  MISSISSIPPI      123.5      145.0              21.5\n",
      "43         UTAH       95.5      116.0              20.5\n"
     ]
    }
   ],
   "source": [
    "#Differences by state\n",
    "merged_states = pd.merge(event_years_first, event_years_second, on='STATE', suffixes=('_df1', '_df2'))\n",
    "merged_states['count_difference'] = merged_states['COUNT_df2'] - merged_states['COUNT_df1']\n",
    "merged_states = merged_states.sort_values('count_difference', ascending=False)\n",
    "merged_states\n",
    "print(merged_states.iloc[:10])"
   ]
  },
  {
   "cell_type": "markdown",
   "metadata": {},
   "source": [
    "We see the states that saw a biggest increase in events from first 2 to last 2 years were Texas, Alaska, Oklahoma, Nevada, and Florida.\n",
    "According to PolicyGenius (https://www.policygenius.com/homeowners-insurance/best-and-worst-states-for-climate-change/) the states that will fare worst in the face of climate change are Florida, Mississippi, Louisiana, Texas, and Arkansas. 4 of these states are in the top 10 of increasing weather events.\\\n",
    "One thing to note is states like Texas that are larger experience more events due to their size, so it's also important to factor in percent change."
   ]
  },
  {
   "cell_type": "code",
   "execution_count": 42,
   "metadata": {
    "scrolled": true
   },
   "outputs": [
    {
     "name": "stdout",
     "output_type": "stream",
     "text": [
      "          STATE  COUNT_df1  COUNT_df2  count_difference  percent_change\n",
      "1        ALASKA       72.0      135.0              63.0        0.875000\n",
      "27       NEVADA      108.0      156.5              48.5        0.449074\n",
      "42        TEXAS      568.5      802.0             233.5        0.410730\n",
      "7      DELAWARE       28.0       37.5               9.5        0.339286\n",
      "35     OKLAHOMA      205.5      265.0              59.5        0.289538\n",
      "17    LOUISIANA      132.0      169.0              37.0        0.280303\n",
      "43         UTAH       95.5      116.0              20.5        0.214660\n",
      "23  MISSISSIPPI      123.5      145.0              21.5        0.174089\n",
      "18        MAINE       66.0       77.0              11.0        0.166667\n",
      "8       FLORIDA      260.0      303.0              43.0        0.165385\n"
     ]
    }
   ],
   "source": [
    "#percent_change\n",
    "merged_states['percent_change'] = (merged_states['COUNT_df2'] - merged_states['COUNT_df1'])/merged_states['COUNT_df1']\n",
    "merged_states = merged_states.sort_values('percent_change', ascending=False)\n",
    "print(merged_states.iloc[:10])"
   ]
  },
  {
   "cell_type": "code",
   "execution_count": 48,
   "metadata": {},
   "outputs": [
    {
     "data": {
      "text/plain": [
       "<Figure size 1000x600 with 0 Axes>"
      ]
     },
     "metadata": {},
     "output_type": "display_data"
    },
    {
     "data": {
      "image/png": "[encoded data removed]",
      "text/plain": [
       "<Figure size 640x480 with 1 Axes>"
      ]
     },
     "metadata": {},
     "output_type": "display_data"
    }
   ],
   "source": [
    "merged_states = merged_states.sort_values('count_difference', ascending=False)\n",
    "combined_df_per = pd.concat([merged_states.head(3), merged_states.tail(3)])\n",
    "combined_df_per['STATE'] = combined_df_per['STATE'].apply(lambda x: x[:7])\n",
    "plt.figure(figsize=(10, 6))\n",
    "combined_df_per.reset_index(drop=True, inplace=True)\n",
    "combined_df_per.plot(kind='bar', x='STATE', y='count_difference', legend=False)\n",
    "plt.xlabel('State')\n",
    "plt.ylabel('Count Difference')\n",
    "plt.title('Bar Chart of Top 3 and Bottom 3 States')\n",
    "plt.xticks(rotation=0)\n",
    "plt.show()"
   ]
  },
  {
   "cell_type": "markdown",
   "metadata": {},
   "source": [
    "### Trends in Climate Opinions"
   ]
  },
  {
   "cell_type": "markdown",
   "metadata": {},
   "source": [
    "Data on climate opinion from the yale 2023 dataset is broken down by percentage of responses for a question referring to their opinion on a particular statement. These questions are mapped the variable names. The breakdown for our questions is as follows: \n",
    "\n",
    "| Question  | Related `varname` |\n",
    "| :-------- |:----------------  |\n",
    "| is global warming is affecting the weather?   | `affectweather` |\n",
    "| Are you worried about global warming?  | `worried`|\n",
    "| Do you support regulating CO2 as a pollutant? |  `regulate`|\n",
    "|   Should my governor do more to address global warming?|`governor`|\n",
    "| Do you discuss global warming at least occasionally? | `discuss` |"
   ]
  },
  {
   "cell_type": "markdown",
   "metadata": {},
   "source": [
    "This set of questions comes from five categories of opinions, our analysis of the data would benefit from investigating patterns within responses on climate opinion. Let us compare the percent distributions for each question."
   ]
  },
  {
   "cell_type": "code",
   "execution_count": null,
   "metadata": {
    "scrolled": true
   },
   "outputs": [],
   "source": [
    "fig, ax = plt.subplots(1, 1, figsize=(5, 4))\n",
    "\n",
    "sns.boxplot(\n",
    "    events_df_merged,\n",
    "    y = \"varname\",\n",
    "    x = \"percentage\",\n",
    "    ax = ax).set(\n",
    "    title='Percent Distributions of Agreement for \\nClimate Opinion Questions from 2018-2023', \n",
    "    ylabel = \"Questions\"\n",
    ");"
   ]
  },
  {
   "cell_type": "markdown",
   "metadata": {},
   "source": [
    "Analyzing the distribution of percentages for the responses in favor of each question it looks like the distribution for `regulate` which is the variable name corresponding to support for regulating CO2 as a pollutant has the highest maximum percentage of support in comparison to other questions. This along with about half of its distribution being high relative to the other distributions.\n",
    "\n",
    "We can also see that the percent distribution with the most spread is that of `affectweather` which corresponds responses in agreement with the statement of global warming affecting the weather. This illustrates that there are varied responses when it comes to the affects of global warming on weather, something that is worth investigating."
   ]
  },
  {
   "cell_type": "markdown",
   "metadata": {},
   "source": [
    " We can also visualize the percent support for each question relative to each other with the following visualization:"
   ]
  },
  {
   "cell_type": "code",
   "execution_count": null,
   "metadata": {
    "scrolled": true
   },
   "outputs": [],
   "source": [
    "fig, ax = plt.subplots(1, 1, figsize=(6, 5))\n",
    "\n",
    "sns.barplot( \n",
    "    events_df_merged.sort_values('percentage'),\n",
    "    y = 'percentage', \n",
    "    x = 'varname',\n",
    "    ax = ax).set(\n",
    "    title='Percent Agreement for each Climate \\n Opinion Question from 2018-2023',\n",
    "    xlabel = \"Questions\"\n",
    ");"
   ]
  },
  {
   "cell_type": "markdown",
   "metadata": {},
   "source": [
    "Relative to each other, it seems the questions with highest percent support, besides `regulate`, are `worried` and `affectweather` closely after. This shows that questions pertaining to **concern, affects, and regulation** are the most supported over defined time period. To a certain extent, this also may imply that questions that deal with beliefs, risk perceptions, and policy are the most supported types.\n",
    "\n",
    "The plot also demonstrates that `discuss` is the least supported question with a large difference between it and the next lowest percent support for a question. This variable name corresponds to the question of discussion climate change occassionally. "
   ]
  },
  {
   "cell_type": "markdown",
   "metadata": {},
   "source": [
    "Analyzing the percent support for these questions over time might prove to be insightful of any significant change. "
   ]
  },
  {
   "cell_type": "code",
   "execution_count": null,
   "metadata": {
    "scrolled": true
   },
   "outputs": [],
   "source": [
    "fig, ax = plt.subplots(1, 1, figsize=(6, 5))\n",
    "\n",
    "sns.lineplot(\n",
    "    events_df_merged, \n",
    "    x = \"YEAR\", \n",
    "    y = \"percentage\", \n",
    "    hue = \"varname\").set(\n",
    "    title='Percent of Responses in Support of Question from 2018-2023',\n",
    "    xlabel = \"Year\"\n",
    ")\n",
    "plt.legend(loc='upper left', bbox_to_anchor=(1, 1));"
   ]
  },
  {
   "cell_type": "markdown",
   "metadata": {},
   "source": [
    "Most of the percentages in favor of its respective question are lower more recently in comparison to 2018, with exception of `affectweather` and perhaps `worried`. These two exception also seem to follow a similar trend over the years.\n",
    "\n",
    "The most stagnant percentage support for a question is that of `discuss` which also remains the lowest support across all years. The questions that show the most variation in relation to percent support over the years are `governor`, `affectweather`, and `worried`. "
   ]
  },
  {
   "cell_type": "markdown",
   "metadata": {},
   "source": [
    "### Trends in Extreme Weather\n",
    "To get an overview of extreme weather, we can first analyze the frequency of each type of extreme weather relative to each other within the years of interest."
   ]
  },
  {
   "cell_type": "code",
   "execution_count": null,
   "metadata": {
    "scrolled": true
   },
   "outputs": [],
   "source": [
    "event_occur = events_df_merged.groupby([\"YEAR\", \"EVENT_TYPE\"]).agg(event_count=('STATE', 'count')).reset_index()"
   ]
  },
  {
   "cell_type": "code",
   "execution_count": null,
   "metadata": {
    "scrolled": true
   },
   "outputs": [],
   "source": [
    "fig, ax = plt.subplots(1, 1, figsize=(8, 7))\n",
    "\n",
    "sns.barplot(\n",
    "    event_occur.sort_values(\"event_count\", ascending = False), \n",
    "    y = \"EVENT_TYPE\", \n",
    "    x = \"event_count\",\n",
    "    orient = \"h\",  \n",
    "    ax = ax).set(\n",
    "    title='Frequency of Extreme Weather Events from 2018-2023',\n",
    "    xlabel = \"count\",\n",
    "    ylabel = \"weather event\"\n",
    ");"
   ]
  },
  {
   "cell_type": "markdown",
   "metadata": {},
   "source": [
    "Although it is difficult to view the frequency of each event within the plot, it illustrates the significant difference between the frequency of `Thunderstorm Wind` in comparison to all other events. \n",
    "\n",
    "To get a better sense of the relation between the most frequent weather events besides `Thunderstorm Wind`, the distribution of the following 5 events with the highest recorded frequency are visualized below:"
   ]
  },
  {
   "cell_type": "code",
   "execution_count": null,
   "metadata": {
    "scrolled": true
   },
   "outputs": [],
   "source": [
    "#filter to top occuring \n",
    "top_events = event_occur.query(\"event_count < 8000 and event_count > 3400\")\n",
    "\n",
    "fig, ax = plt.subplots(1, 2, figsize=(11.5, 4))\n",
    "#boxplot\n",
    "sns.boxplot(\n",
    "    top_events.sort_values(\"event_count\"), \n",
    "    x = \"EVENT_TYPE\", \n",
    "    y = \"event_count\",\n",
    "    ax = ax[0]\n",
    ").set(\n",
    "    xlabel = \"weather event\",\n",
    "    ylabel = \"count\"\n",
    ")\n",
    "\n",
    "#barplot\n",
    "sns.barplot(\n",
    "    top_events.sort_values(\"event_count\"), \n",
    "    x = \"EVENT_TYPE\", \n",
    "    y = \"event_count\",\n",
    "    ax = ax[1]\n",
    ").set(\n",
    "    xlabel = \"weather event\",\n",
    "    ylabel = \"count\"\n",
    ")\n",
    "\n",
    "#labels and spacing\n",
    "plt.subplots_adjust(wspace=0.25)\n",
    "plt.suptitle('Subsequent Most Frequent Weather Events from 2018-2023');"
   ]
  },
  {
   "cell_type": "markdown",
   "metadata": {},
   "source": [
    "It can be seen from the plot that most distributions are relatively around the same frequency of occurence except `Hail` with a frequency of large difference. `Hail` also has the most variability in comparison to the frequency of the other weather events.\n",
    " \n",
    "In a similar manner let us investigate events with the lowest recorded occurences over time.The lowest recorded occurences all have only a count of 5 and as such we will not visualize their distributions of their repsective weather events. Instead we can see that the lowest occurence, the weather event, and the year in which it was experienced can be see in the following dataframe."
   ]
  },
  {
   "cell_type": "code",
   "execution_count": null,
   "metadata": {},
   "outputs": [],
   "source": [
    "event_occur.query(\"event_count <= 5\")"
   ]
  },
  {
   "cell_type": "markdown",
   "metadata": {},
   "source": [
    "From this filtered dataset we can see that the smallest frequencies were recorded for `Sneakerweave`, `Dense Smoke`, `Hurricane`, `Sleet`, `Lakeshore Flood`, `Volcanic Ashfall`, and `Storm Surge/Tide`."
   ]
  },
  {
   "cell_type": "markdown",
   "metadata": {},
   "source": [
    "It is important to note that these frequencies of weather events are a count in relation to each year, and in being so weather events can be more frequent in some years in comparison to other years. To get an idea of the overall most occuring and least occuring events we can analyze total counts recorded from 2018-2023."
   ]
  },
  {
   "cell_type": "code",
   "execution_count": null,
   "metadata": {
    "scrolled": true
   },
   "outputs": [],
   "source": [
    "overall_count = (event_occur\n",
    "                 .groupby('EVENT_TYPE')[['event_count']]\n",
    "                 .sum()\n",
    "                 .sort_values('event_count', ascending = False)\n",
    "                )\n",
    "\n",
    "overall_count.head()"
   ]
  },
  {
   "cell_type": "markdown",
   "metadata": {},
   "source": [
    "Overall, the top 5 most frequent extreme weather events reflect that of the previous plots. For the weather events with lowest occurences it can be seen that besides previously mentioned events with low frequency, overall `Tsunami` and `Seiche` are the two **least frequent**."
   ]
  },
  {
   "cell_type": "code",
   "execution_count": null,
   "metadata": {
    "scrolled": true
   },
   "outputs": [],
   "source": [
    "overall_count.tail()"
   ]
  },
  {
   "cell_type": "markdown",
   "metadata": {},
   "source": [
    "<br><br>\n",
    "To further understand the frequency of events, we can look at any trends over time. To do this we will look at the proportions of events per year."
   ]
  },
  {
   "cell_type": "code",
   "execution_count": null,
   "metadata": {
    "scrolled": true
   },
   "outputs": [],
   "source": [
    "totals = event_occur.groupby([\"YEAR\"])['event_count'].sum()\n",
    "\n",
    "event_occur['event_prop'] = event_occur.event_count / event_occur.YEAR.apply(lambda x: totals.loc[x])"
   ]
  },
  {
   "cell_type": "markdown",
   "metadata": {},
   "source": [
    "Reevaluating the distribution of extreme weather events as proportions, we can analyze any changes relative to type of extreme weather event from previous analysis."
   ]
  },
  {
   "cell_type": "code",
   "execution_count": null,
   "metadata": {
    "scrolled": true
   },
   "outputs": [],
   "source": [
    "fig, ax = plt.subplots(1, 1, figsize=(8, 7))\n",
    "\n",
    "sns.barplot(\n",
    "    event_occur.sort_values(\"event_prop\", ascending = False), \n",
    "    y = \"EVENT_TYPE\", \n",
    "    x = \"event_prop\",\n",
    "    orient = \"h\",  \n",
    "    ax = ax).set(\n",
    "    title='Proportion of Extreme Weather Events from 2018-2023',\n",
    "    xlabel = \"proportion\",\n",
    "    ylabel = \"weather event\"\n",
    ");"
   ]
  },
  {
   "cell_type": "markdown",
   "metadata": {},
   "source": [
    "`Thunderstorm Wind` still remains the event with highest occurences across the years, let us evaluate these changes over time. "
   ]
  },
  {
   "cell_type": "code",
   "execution_count": null,
   "metadata": {
    "scrolled": true
   },
   "outputs": [],
   "source": [
    "# get events with highest recorded props\n",
    "top_events = list(event_occur.query(\"event_prop > 0.07\").EVENT_TYPE.unique())\n",
    "\n",
    "#lineplot\n",
    "fig, ax = plt.subplots(1, 1, figsize=(6, 5))\n",
    "sns.lineplot(\n",
    "    event_occur.query(f'EVENT_TYPE in {top_events}'), \n",
    "    x = \"YEAR\", \n",
    "    y = \"event_prop\", \n",
    "    hue = \"EVENT_TYPE\").set(\n",
    "    title='Proportion of Weather Events Over Time',\n",
    "    xlabel = \"Year\", \n",
    "    ylabel= \"Proportion\"\n",
    ")\n",
    "plt.legend(loc='upper left', bbox_to_anchor=(1, 1));"
   ]
  },
  {
   "cell_type": "markdown",
   "metadata": {},
   "source": [
    "From the plot, it is seen that `Drought`s, `Flash Flood`s, `Flood`s, and `High Wind` all are similar in value of proportional occurence with much overalp throughout the years. The plot also illustrates some fluctuation in `Thunderstorn Wind` which across each year reamins significantly higher than other extreme weather events. \n",
    "\n",
    "We can carry out the same analysis for events with low recorded frequencies."
   ]
  },
  {
   "cell_type": "code",
   "execution_count": null,
   "metadata": {
    "scrolled": true
   },
   "outputs": [],
   "source": [
    "#get events with lowest recorded props\n",
    "bottom_events = list(event_occur.query(\"event_prop < 0.0001045\").EVENT_TYPE.unique())\n",
    "\n",
    "#lineplot\n",
    "fig, ax = plt.subplots(1, 1, figsize=(6, 5))\n",
    "sns.lineplot(\n",
    "    event_occur.query(f'EVENT_TYPE in {bottom_events}'), \n",
    "    x = \"YEAR\", \n",
    "    y = \"event_prop\", \n",
    "    hue = \"EVENT_TYPE\").set(\n",
    "    title='Proportion of Weather Events Over Time',\n",
    "    xlabel = \"Year\",\n",
    "    ylabel = \"Proportion\"\n",
    ")\n",
    "plt.legend(loc='upper left', bbox_to_anchor=(1, 1));"
   ]
  },
  {
   "cell_type": "markdown",
   "metadata": {},
   "source": [
    "Across years, all events except `Hurricane` all follow an upwards trend, such that their proportional occurences are higher in 2023 than in 2018. Although `Huricane` peaks sharply around 2020 implying significant change, the scale of proportions in plot is very miniscule with a change from a porportion of $0.0008$ to that of less that $0.0002$."
   ]
  },
  {
   "cell_type": "markdown",
   "metadata": {},
   "source": [
    "### Relationships between Variables"
   ]
  },
  {
   "cell_type": "markdown",
   "metadata": {},
   "source": [
    "Is there a relationship between the frequency of extreme weather events, and the percentage of positive responses to statements within questions?"
   ]
  },
  {
   "cell_type": "code",
   "execution_count": null,
   "metadata": {
    "scrolled": true
   },
   "outputs": [],
   "source": [
    "fig, ax = plt.subplots(1, 1, figsize=(6, 5))\n",
    "\n",
    "sns.scatterplot(\n",
    "    event_count_merged, \n",
    "    x = \"COUNT\", \n",
    "    y = \"percentage\", \n",
    "    hue = \"varname\"\n",
    ").set(\n",
    "    title='Percent Responses in Favor of Climate Opinion Question \\n in Relation to the Frequency of Weather Events',\n",
    "    xlabel = \"Frequency\",\n",
    "    ylabel = \"Percentage\"\n",
    ")\n",
    "plt.legend(loc='upper left', bbox_to_anchor=(1, 1));"
   ]
  },
  {
   "cell_type": "markdown",
   "metadata": {},
   "source": [
    "It is seen clearly that the climate opinion question shapes the relationship between percent responses and frequency of extreme weather events. For all questions, most points cluster around the y-axis with frequencies below 400.\n",
    "<br><br><br><br>\n",
    "Is there a relationship between occurences of extreme weather events and the number of respondents that believe in climate change?\n",
    "We will measure the  number of respondents that believe in climate change as the percentage that agree with the statement amongst all responses to the following questions:\n",
    "-  is global warming is affecting the weather?  \n",
    "- Are you worried about global warming? \n",
    "- Do you discuss global warming at least occasionally? "
   ]
  },
  {
   "cell_type": "code",
   "execution_count": null,
   "metadata": {
    "scrolled": true
   },
   "outputs": [],
   "source": [
    "fig, ax = plt.subplots(1, 1, figsize=(5, 4))\n",
    "\n",
    "sns.scatterplot(\n",
    "    event_count_merged.query(\"varname in ['affectweather', 'worried', 'discuss']\"), \n",
    "    x = \"COUNT\", \n",
    "    y = \"percentage\",\n",
    "    hue = 'varname'\n",
    ").set(\n",
    "    title = 'Percent Responses in Favor of Climate Opinion Question \\n in Relation to the Frequency of Weather Events',\n",
    "    xlabel = \"Frequency\",\n",
    "    ylabel = \"Percentage\"\n",
    ")\n",
    "plt.legend(loc='upper left', bbox_to_anchor=(1, 1));"
   ]
  },
  {
   "cell_type": "markdown",
   "metadata": {},
   "source": [
    "Both scatterplots show a mirrored pattern over the x-axis, frequency, that reflect the different categories of questions. It seems as though the relation between percentage and frequency of weather events are similar for `worried` and `affectweather`."
   ]
  },
  {
   "cell_type": "markdown",
   "metadata": {},
   "source": [
    "### Outliers"
   ]
  },
  {
   "cell_type": "markdown",
   "metadata": {},
   "source": [
    "Investigating outliers can provide insight into the quality of a dataset. Below are some boxplots that illustrate the nature of both the weather events dataset and the climate opinion dataset."
   ]
  },
  {
   "cell_type": "code",
   "execution_count": null,
   "metadata": {
    "scrolled": true
   },
   "outputs": [],
   "source": [
    "count_sum = event_count_df.groupby('STATE').sum(numeric_only=True)\n",
    "sns.boxplot(data=count_sum, x='COUNT')\n",
    "plt.title('Distribution of total extreme events by state (2018-2023)')\n",
    "plt.show()"
   ]
  },
  {
   "cell_type": "markdown",
   "metadata": {},
   "source": [
    "It looks like most states are between 0 and 2500 events in this period, with the exception of one. Lets look at this outlier:"
   ]
  },
  {
   "cell_type": "code",
   "execution_count": null,
   "metadata": {
    "scrolled": true
   },
   "outputs": [],
   "source": [
    "outlier = count_sum[count_sum['COUNT'] > 2500]\n",
    "outlier"
   ]
  },
  {
   "cell_type": "markdown",
   "metadata": {},
   "source": [
    "As we can see from the output above, this outlier is Texas. As Texas is the second largest state in the US by land area, this checks out. "
   ]
  },
  {
   "cell_type": "markdown",
   "metadata": {},
   "source": [
    "Looking at the number of events for each event type can show which events occur significantly more frequently. The boxplot below shows the distribution of event count by type"
   ]
  },
  {
   "cell_type": "code",
   "execution_count": null,
   "metadata": {
    "scrolled": true
   },
   "outputs": [],
   "source": [
    "event_type_sum = events_df.groupby('EVENT_TYPE').count()\n",
    "sns.boxplot(data=event_type_sum, x='EPISODE_ID')\n",
    "plt.title('Distribution of number of extreme weather events by type (2018-2023)')\n",
    "plt.xlabel('Event count')\n",
    "plt.show()"
   ]
  },
  {
   "cell_type": "markdown",
   "metadata": {},
   "source": [
    "This histogram suggests that there are eight events that are much more frequent than all others. Lets see what they are:"
   ]
  },
  {
   "cell_type": "code",
   "execution_count": null,
   "metadata": {
    "scrolled": true
   },
   "outputs": [],
   "source": [
    "outliers = event_type_sum[event_type_sum['EPISODE_ID'] > 2500]\n",
    "outliers"
   ]
  },
  {
   "cell_type": "markdown",
   "metadata": {},
   "source": [
    "These eight events are all known to happen quite frequently, meaning that there is reason for these to all be outliers. "
   ]
  },
  {
   "cell_type": "markdown",
   "metadata": {},
   "source": [
    "As for the Yale Climate dataset, lets look at some of the most pertinent questions and their distributions across states:"
   ]
  },
  {
   "cell_type": "code",
   "execution_count": null,
   "metadata": {
    "scrolled": true
   },
   "outputs": [],
   "source": [
    "questions_df = yale_climate[yale_climate['varname'].isin(research_questions)]\n",
    "sns.boxplot(data=questions_df, x='percentage', y='varname')\n",
    "plt.title('Distribution of Climate Opinion Questions');"
   ]
  },
  {
   "cell_type": "markdown",
   "metadata": {},
   "source": [
    "As shown in the boxplot above, the distributions for these questions are roughly normal. There are few outliers, with the exception of the 'governor' question, which has more than all other questions combined. Since these outliers are fairly close to the other values, they should not have much of an effect on our analysis."
   ]
  },
  {
   "cell_type": "markdown",
   "metadata": {},
   "source": [
    "# Analysis"
   ]
  },
  {
   "cell_type": "markdown",
   "metadata": {},
   "source": [
    "> What (if any) analyses have already been performed on this data (or another similar dataset)?<br>\n",
    "> You should provide references to this<br>\n",
    "> What types of analyses did you perform?"
   ]
  },
  {
   "cell_type": "markdown",
   "metadata": {},
   "source": [
    "Previously mentioned, a study by Peter D. Howe focuses on the exposure to extreme weather events as a metric of climate opinons. The study also conveys the significance insensitivity of climate opinions have on their results. With this in mind, the anlaysis we carry out will take into consideration evaluating these two aspects. \n",
    "\n",
    "> Note: The referenced study does not include types of performed analysis."
   ]
  },
  {
   "cell_type": "markdown",
   "metadata": {},
   "source": [
    "## Linear Regression Model for Predicting Climate Opinion\n",
    "\n",
    "One way of understanding the relationship between extreme weather events and climate opinion is building linear regression models. These can show how well a selection of variables can predict a response variable (in this case, climate opinion).\n",
    "\n",
    "Lets start by looking at a simple model predicting climate opinion from state event counts over the past six years:"
   ]
  },
  {
   "cell_type": "code",
   "execution_count": null,
   "metadata": {},
   "outputs": [],
   "source": [
    "research_questions = ['affectweather', 'worried', 'regulate', 'governor', 'discuss'] \n",
    "count_models = []\n",
    "for question in research_questions:\n",
    "    filtered = event_count_merged[event_count_merged['varname'] == question].groupby('STATE').agg({'COUNT': 'sum', 'percentage': 'mean'})\n",
    "    model = smf.ols('percentage ~ 1 + COUNT', filtered).fit()\n",
    "    count_models.append(model)\n",
    "    print(question + ':')\n",
    "    print(model.summary().tables[1])\n",
    "    print('\\n')"
   ]
  },
  {
   "cell_type": "markdown",
   "metadata": {},
   "source": [
    "The results from these models show that in general, there is no significant correlation between number of events in a state and climate opinion. The lowest pvalue was for 'regulate' with 0.172, which is not statistically significant. Also, all models had a slight negative coefficient, suggesting that if anything there might be a small negative correlation between number of extreme weather events and people believing in climate change/wanting the government to do more for it."
   ]
  },
  {
   "cell_type": "markdown",
   "metadata": {},
   "source": [
    "Another model we can look at is one that uses the event_df_merged, which will incorporate more variables such as event type and the number of deaths/injuries"
   ]
  },
  {
   "cell_type": "code",
   "execution_count": null,
   "metadata": {
    "scrolled": true
   },
   "outputs": [],
   "source": [
    "categorized = events_df_merged.copy()\n",
    "categorized['EVENT_TYPE'] = pd.Categorical(categorized['EVENT_TYPE'])"
   ]
  },
  {
   "cell_type": "code",
   "execution_count": null,
   "metadata": {},
   "outputs": [],
   "source": [
    "event_models = []\n",
    "for question in research_questions:\n",
    "    filtered = categorized[categorized['varname'] == question]\n",
    "    model = smf.ols('percentage ~ EVENT_TYPE + INJURIES_DIRECT + INJURIES_INDIRECT + DEATHS_DIRECT + DEATHS_INDIRECT', filtered).fit()\n",
    "    event_models.append(model)\n",
    "    print(question + ':')\n",
    "    print(model.summary().tables[1])\n",
    "    print('\\n')"
   ]
  },
  {
   "cell_type": "markdown",
   "metadata": {},
   "source": [
    "Looking through the tables above, we can indentify some patterns. For one, the DEATHS_DIRECT seems to have a statistically signficant positive correlation with percentage across all questions. INJURIES_DIRECT, INJURIES_INDIRECT, and DEATHS_INDIRECT do not seem to have any statistically significant correlation with percentage. For the different event types, it seems that there is a lot of variance across the different types and the different research questions. Some of the coefficients are negative, although most are positive. \n",
    "\n",
    "Many event types have stastically significant results for one question but not all. Some types, such as Lake-Effect Snow, Coastal Flood, and Rip Current have stastically significant positive correlations across all questions. This suggests that areas that have these events more frequently might be more likely to be more conscientious about climate change.\n",
    "\n",
    "Another pattern in these results is that some research questions have much more statistically significant results than others. For example, 'discuss' has p-values of under 0.05 for almost all variables. On the other hand, 'worried' has few p-values less than 0.05."
   ]
  },
  {
   "cell_type": "markdown",
   "metadata": {},
   "source": [
    "## Assumptions for Linear Regression\n",
    "\n",
    "To make sure that Linear Regression is a valid method of analysis for these models, we must run some diagnostics to make sure the assumptions are met"
   ]
  },
  {
   "cell_type": "markdown",
   "metadata": {},
   "source": [
    "### Normality"
   ]
  },
  {
   "cell_type": "code",
   "execution_count": null,
   "metadata": {
    "scrolled": true
   },
   "outputs": [],
   "source": [
    "#used to standardize residuals\n",
    "def standardize(X):\n",
    "    return (X - X.mean()) / X.std()"
   ]
  },
  {
   "cell_type": "markdown",
   "metadata": {},
   "source": [
    "QQ plots for Event Count Models:"
   ]
  },
  {
   "cell_type": "code",
   "execution_count": null,
   "metadata": {},
   "outputs": [],
   "source": [
    "fig, axs = plt.subplots(2,3, figsize=(14,14))\n",
    "for i, (model, ax) in enumerate(zip(count_models, axs.ravel())):\n",
    "    sm.qqplot(standardize(model.resid), line='45', ax=ax)\n",
    "    ax.set_title(f'Question {i + 1}')"
   ]
  },
  {
   "cell_type": "markdown",
   "metadata": {},
   "source": [
    "We can see that all plots here roughly follow the line, so we can assume this assumption is met."
   ]
  },
  {
   "cell_type": "markdown",
   "metadata": {},
   "source": [
    "QQ Plots for Event Type models:"
   ]
  },
  {
   "cell_type": "code",
   "execution_count": null,
   "metadata": {},
   "outputs": [],
   "source": [
    "fig, axs = plt.subplots(2,3, figsize=(14,14))\n",
    "for i, (model, ax) in enumerate(zip(event_models, axs.ravel())):\n",
    "    sm.qqplot(standardize(model.resid), line='45', ax=ax)\n",
    "    ax.set_title(f'Question {i + 1}')"
   ]
  },
  {
   "cell_type": "markdown",
   "metadata": {},
   "source": [
    "The plots seem to tail off at the beginning and ends, suggesting that the event type models do not meet the normality requirement"
   ]
  },
  {
   "cell_type": "markdown",
   "metadata": {},
   "source": [
    "### Heteroscedasticity and Linearity"
   ]
  },
  {
   "cell_type": "markdown",
   "metadata": {},
   "source": [
    "Fitted vs Standardized Residuals for Event Count Models:"
   ]
  },
  {
   "cell_type": "code",
   "execution_count": null,
   "metadata": {},
   "outputs": [],
   "source": [
    "fig, axs = plt.subplots(2,3, figsize=(14,14))\n",
    "\n",
    "for i, (model, ax) in enumerate(zip(count_models, axs.ravel())):\n",
    "    ax.scatter(model.fittedvalues, standardize(model.resid))\n",
    "    ax.set_xlabel('Fitted values')\n",
    "    ax.set_ylabel('Standardized residuals')\n",
    "    ax.set_title(f'Question {i+1}')"
   ]
  },
  {
   "cell_type": "markdown",
   "metadata": {},
   "source": [
    "These plots have no patterns and seem to be fairly symmetrical across the line y = 0. This suggests that the heteroscedasticity and linear assumptions are met for the event count models"
   ]
  },
  {
   "cell_type": "markdown",
   "metadata": {},
   "source": [
    "Fitted vs Standardized Residuals for Event Type Models:"
   ]
  },
  {
   "cell_type": "code",
   "execution_count": null,
   "metadata": {},
   "outputs": [],
   "source": [
    "fig, axs = plt.subplots(2,3, figsize=(14,14))\n",
    "\n",
    "for i, (model, ax) in enumerate(zip(event_models, axs.ravel())):\n",
    "    ax.scatter(model.fittedvalues, standardize(model.resid))\n",
    "    ax.set_xlabel('Fitted values')\n",
    "    ax.set_ylabel('Standardized residuals')\n",
    "    ax.set_title(f'Question {i+1}')"
   ]
  },
  {
   "cell_type": "markdown",
   "metadata": {},
   "source": [
    "There seems to be a general negative trend across all of these plots, suggesting that the event count models do not meet the assumptions for heteroscedasticity and linearity."
   ]
  },
  {
   "cell_type": "markdown",
   "metadata": {},
   "source": [
    "### Independence"
   ]
  },
  {
   "cell_type": "markdown",
   "metadata": {},
   "source": [
    "Index vs. Standardized Residuals for Event Count Models:"
   ]
  },
  {
   "cell_type": "code",
   "execution_count": null,
   "metadata": {},
   "outputs": [],
   "source": [
    "fig, axs = plt.subplots(2,3, figsize=(14,14))\n",
    "\n",
    "for i, (model, ax) in enumerate(zip(count_models, axs.ravel())):\n",
    "    ax.scatter(range(len(model.resid)), standardize(model.resid))\n",
    "    ax.set_xlabel('Index')\n",
    "    ax.set_ylabel('Standardized residuals')\n",
    "    ax.set_title(f'Question {i+1}')"
   ]
  },
  {
   "cell_type": "markdown",
   "metadata": {},
   "source": [
    "These plots look fairly symmetrical across the line y = 0, as the points seem to be randomly scattered across the index. This suggests that the indepence assumption is met for all event count models."
   ]
  },
  {
   "cell_type": "markdown",
   "metadata": {},
   "source": [
    "Index vs Standardized residuals for Event Type Models:"
   ]
  },
  {
   "cell_type": "code",
   "execution_count": null,
   "metadata": {},
   "outputs": [],
   "source": [
    "fig, axs = plt.subplots(2,3, figsize=(14,14))\n",
    "\n",
    "for i, (model, ax) in enumerate(zip(event_models, axs.ravel())):\n",
    "    ax.scatter(range(len(model.resid)), standardize(model.resid))\n",
    "    ax.set_xlabel('Index')\n",
    "    ax.set_ylabel('Standardized residuals')\n",
    "    ax.set_title(f'Question {i+1}')"
   ]
  },
  {
   "cell_type": "markdown",
   "metadata": {},
   "source": [
    "Some of the questions here (namely 3 and 4) seem to have a negative trend, while the others have less of a defined trend. Since some of the questions have a defined trend, we cannot say that the independence assumption is met for the event type models."
   ]
  },
  {
   "cell_type": "markdown",
   "metadata": {},
   "source": [
    "### Shapiro-Wilk Test"
   ]
  },
  {
   "cell_type": "markdown",
   "metadata": {},
   "source": [
    "Event Count Models"
   ]
  },
  {
   "cell_type": "code",
   "execution_count": null,
   "metadata": {
    "scrolled": true
   },
   "outputs": [],
   "source": [
    "q_num = 1\n",
    "for model in count_models:\n",
    "    print(f'Question {q_num} p-value')\n",
    "    shapiro_test = stats.shapiro(model.resid)\n",
    "    q_num += 1\n",
    "    print(shapiro_test.pvalue)"
   ]
  },
  {
   "cell_type": "markdown",
   "metadata": {},
   "source": [
    "The p-values here are quite high, suggesting that the event count models pass normality"
   ]
  },
  {
   "cell_type": "markdown",
   "metadata": {},
   "source": [
    "Event Type Models"
   ]
  },
  {
   "cell_type": "code",
   "execution_count": null,
   "metadata": {
    "scrolled": true
   },
   "outputs": [],
   "source": [
    "q_num = 1\n",
    "for model in event_models:\n",
    "    print(f'Question {q_num} p-value')\n",
    "    shapiro_test = stats.shapiro(model.resid)\n",
    "    q_num += 1\n",
    "    print(shapiro_test.pvalue)"
   ]
  },
  {
   "cell_type": "markdown",
   "metadata": {},
   "source": [
    "With the p-values being quite low, this confirms that the event type models do not pass normality and therefore cannot be used to make statistical inferences from."
   ]
  },
  {
   "cell_type": "markdown",
   "metadata": {},
   "source": [
    "### Analysis of Variance (ANOVA) for Climate Opinion Model\n",
    "\n",
    "#### State & Year Covariates\n",
    "Inline with previous analysis, we construct a simple linear regression model which predicts the percentage of support of climate opinon questions given the count of weather effects and the category of question. We want to test whether the inclusion of varaibles like the `STATE` and `YEAR` significantly improves the model fit. To do this, we will carry out an analysis of variance. We define the larger and smaller models to be as follows:\n",
    "\n",
    "$$\n",
    "\\begin{aligned}\\\\\n",
    "\\text{Small model:} \\quad \\text{percent support}_i &= \\beta_0 + \\beta_1(\\text{count of weather events}) + \\beta_2(\\text{question}) + \\epsilon_i \\\\ \\\\\n",
    "\\text{Large model:} \\quad \\text{percent support}_i &= \\beta_0 + \\beta_1(\\text{count of weather events}) + \\beta_2(\\text{question}) + \\beta_3(\\text{year}) + \\beta_4(\\text{state}) + \\epsilon_i \\\\ \\\\\n",
    "\\end{aligned}\n",
    "$$\n",
    "\n",
    "and our test statistic, $\\hat F$, to be:\n",
    "\n",
    "$$\n",
    "\\hat F = {\\frac{\\text{SS}_{Reg}(\\text{Small Model}) - \\text{SS}_{Reg}(\\text{Big Model})}{\\Delta \\text{df}} \\Bigg / {\\frac{\\text{SS}_{Res}(\\text{Big Model})}{\\text{df}_{Res}(\\text{Big Model})}}} \\\\\n",
    "$$\n",
    "\n",
    "We carry out this test at a significance level of, $\\alpha = 0.01$."
   ]
  },
  {
   "cell_type": "code",
   "execution_count": null,
   "metadata": {
    "scrolled": true
   },
   "outputs": [],
   "source": [
    "small_formula = f'percentage ~ COUNT + varname'\n",
    "big_formula = f'percentage ~ '+ '+'.join(event_count_merged.columns.difference(['percentage']))"
   ]
  },
  {
   "cell_type": "code",
   "execution_count": null,
   "metadata": {
    "scrolled": true
   },
   "outputs": [],
   "source": [
    "small_model = smf.ols(small_formula, data=event_count_merged).fit()\n",
    "big_model = smf.ols(big_formula, data=event_count_merged).fit()\n",
    "\n",
    "anova_table = sm.stats.anova_lm(small_model, big_model)\n",
    "anova_table"
   ]
  },
  {
   "cell_type": "markdown",
   "metadata": {},
   "source": [
    "Looking at the ANOVA table, the pvalue of our test is calculated to be:"
   ]
  },
  {
   "cell_type": "code",
   "execution_count": null,
   "metadata": {
    "scrolled": true
   },
   "outputs": [],
   "source": [
    "anova_table['Pr(>F)'].values[1]"
   ]
  },
  {
   "cell_type": "markdown",
   "metadata": {},
   "source": [
    "At a significance level of $\\alpha = 0.01$ we come to conclusion that we reject the null hypothesis that the inclusion of the defined additional covariates does not improve model fit.**Hence, there is sufficient evidence to conclude that the addition of the covariates `YEAR` and `STATE` improves the model fit for predicting the response variable of `percentage`.** \n",
    "\n",
    "<br><br>"
   ]
  },
  {
   "cell_type": "markdown",
   "metadata": {},
   "source": [
    "#### Weather Event Related Covariates\n",
    "\n",
    "Alternatively we can investigate the relationship of extreme weather event severity measured by covariates like deaths and injuries in predicting the percentage of support of our five climate questions. We construct a similar model to the previous regression models which predicts the percentage of support of climate opinon questions given the question, state, and year. We want to test whether the inclusion of the variables `INJURIES DIRECT` and `DEATHS_DIRECT` significantly improve the model fit. To do this, we will carry out ANOVA. We define the larger and smaller models to be as follows:\n",
    "\n",
    "$$\n",
    "\\begin{aligned}\\\\\n",
    "\\text{Small model:} \\quad \\text{percent support}_i &= \\beta_0 + \\beta_1(\\text{question}) + \\beta_2(\\text{year}) + \\beta_3(\\text{state}) + \\epsilon_i \\\\ \\\\\n",
    "\\text{Large model:} \\quad \\text{percent support}_i &= \\beta_0 + \\beta_1(\\text{question}) + \\beta_2(\\text{year}) + \\beta_3(\\text{state}) + \\beta_4(\\text{direct injuries}) + \\beta_5(\\text{direct deaths}) + \\epsilon_i \\\\ \\\\\n",
    "\\end{aligned}\n",
    "$$\n",
    "\n",
    "We carry out this test at a significance level of, $\\alpha = 0.01$."
   ]
  },
  {
   "cell_type": "code",
   "execution_count": null,
   "metadata": {
    "scrolled": true
   },
   "outputs": [],
   "source": [
    "small_formula2 = f'percentage ~ varname + YEAR + STATE'\n",
    "big_formula2 = f'percentage ~ varname + YEAR + STATE + INJURIES_DIRECT + DEATHS_DIRECT'"
   ]
  },
  {
   "cell_type": "code",
   "execution_count": null,
   "metadata": {
    "scrolled": true
   },
   "outputs": [],
   "source": [
    "small_model2 = smf.ols(small_formula2, data=events_df_merged).fit()\n",
    "big_model2 = smf.ols(big_formula2, data=events_df_merged).fit()\n",
    "\n",
    "anova_table2 = sm.stats.anova_lm(small_model2, big_model2)\n",
    "anova_table2"
   ]
  },
  {
   "cell_type": "markdown",
   "metadata": {},
   "source": [
    "Looking at the ANOVA table, the pvalue of our test is calculated to be:"
   ]
  },
  {
   "cell_type": "code",
   "execution_count": null,
   "metadata": {
    "scrolled": true
   },
   "outputs": [],
   "source": [
    "anova_table['Pr(>F)'].values[1]"
   ]
  },
  {
   "cell_type": "markdown",
   "metadata": {},
   "source": [
    "At a significance level of $\\alpha = 0.01$ we come to conclusion that we reject the null hypothesis that the inclusion of the defined additional covariates does not improve model fit.**Hence, there is sufficient evidence to conclude that the addition of the covariates `INJURIES DIRECT`, and `DEATHS_DIRECT` improves the model fit for predicting the response variable of `percentage`.** \n",
    "\n",
    "<br><br>"
   ]
  },
  {
   "cell_type": "markdown",
   "metadata": {},
   "source": [
    "# Discussion and Conclusion"
   ]
  },
  {
   "cell_type": "markdown",
   "metadata": {},
   "source": [
    "> How do you interpret the results from these analyses?\n",
    "> What are some potential limitations and shortcoming of your analyses?"
   ]
  },
  {
   "cell_type": "markdown",
   "metadata": {},
   "source": [
    "The linear regression analysis generally yielded statistically insignificant results. The models using event count by state as the predictor all resulted in models with p-values greater than 0.17, suggesting that there is likely no relationship between number of extreme weather events and climate opinion. Additionally, the coefficients for these regression models were almost zero, furthering the idea that the existence of a relationship between these two variables lacks evidence. The second set of linear regression models were more complex, as they used event type, direct/indirect deaths, and direct/indirect injuries. However, the assumptions for linear regression were not met for the more complex set of models, meaning no inferences can be made from the results of these models."
   ]
  },
  {
   "cell_type": "markdown",
   "metadata": {},
   "source": [
    "From conducting further tests with ANOVA the results show that for a model that uses frequency of weather events to predict percentage support of responses to climate opinion questions, the state and recorded year improve the fit of the model. This might signify that geographical location has impacts on the outcome of surveyed climate opinions yet further study would be needed to explore this more concretely. Evidence of improving model fit is also true for casualty covariates in a model with percent support once again as the response variable. This entails that the severity of an extreme weather event may shape opinion on climate change. However, to truly understands if there is evidence of this in underlying data further testing and seperate studies must be conducted. Together, this conveys that it might be likely that multiple factors like region and serverity may contribute to shaping the distributions of extreme weather events and subsequently climate opinion."
   ]
  },
  {
   "cell_type": "markdown",
   "metadata": {},
   "source": [
    "In conclusion, when taking into account all conducted analysis overall there is not sufficient statistical evidence to conclude that there exists a relationship between climate change opinons and extreme weather events. Hence, our hypothesis is not proven to be true as we cannot infer if the frequency of extreme weather events in a location has an effect on climate opinion in that area. Certain limitations within our study's scope include geographical scale chosen as state level may not completely explain variations...\n",
    "\n",
    "limitations :\n",
    "- only looking at state instead of more fine grained like county provides more info variations\n",
    "- metric use to evaluate weather events does not account for variability within each type of weather event \n",
    "- other factors that might come into play that we did not discuss/evaluate like political leaning\n",
    "- confirmation bias"
   ]
  }
 ],
 "metadata": {
  "kernelspec": {
   "display_name": "Python 3 (ipykernel)",
   "language": "python",
   "name": "python3"
  },
  "language_info": {
   "codemirror_mode": {
    "name": "ipython",
    "version": 3
   },
   "file_extension": ".py",
   "mimetype": "text/x-python",
   "name": "python",
   "nbconvert_exporter": "python",
   "pygments_lexer": "ipython3",
   "version": "3.11.5"
  },
  "vscode": {
   "interpreter": {
    "hash": "42280026aa18012503da8cb6da489570981d61455d528b8c180c8362ab4390e4"
   }
  }
 },
 "nbformat": 4,
 "nbformat_minor": 4
}
